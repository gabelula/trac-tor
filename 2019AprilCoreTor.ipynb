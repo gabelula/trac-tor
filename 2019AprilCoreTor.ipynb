{
 "cells": [
  {
   "cell_type": "code",
   "execution_count": 2,
   "metadata": {},
   "outputs": [],
   "source": [
    "# Closed and merge_ready tickets for component Core Tor modified on April 2019\n",
    "csv_path='/Users/gaba/Code/torproject/trac/datasets/2019_march_closed_ticets.csv'\n",
    "\n",
    "import pandas as pd\n",
    "import matplotlib.pyplot as plt\n",
    "\n",
    "csv_file = pd.read_csv(csv_path)\n"
   ]
  },
  {
   "cell_type": "code",
   "execution_count": 5,
   "metadata": {},
   "outputs": [
    {
     "data": {
      "text/plain": [
       "Sponsor19         8\n",
       "Sponsor8-can      4\n",
       "Sponsor31-can     4\n",
       "Sponsor2          3\n",
       "Sponsor19-must    2\n",
       "Sponsor27         2\n",
       "SponsorV-can      2\n",
       "Sponsor2-must     1\n",
       "Sponsor31-must    1\n",
       "SponsorQ          1\n",
       "Name: Sponsor, dtype: int64"
      ]
     },
     "execution_count": 5,
     "metadata": {},
     "output_type": "execute_result"
    }
   ],
   "source": [
    "# which sponsors got ticket closed\n",
    "csv_file['Sponsor'].value_counts()"
   ]
  },
  {
   "cell_type": "code",
   "execution_count": 4,
   "metadata": {},
   "outputs": [
    {
     "data": {
      "text/plain": [
       "nickm       8\n",
       "teor        7\n",
       "catalyst    4\n",
       "neel        1\n",
       "ahf         1\n",
       "asn         1\n",
       "Name: Owner, dtype: int64"
      ]
     },
     "execution_count": 4,
     "metadata": {},
     "output_type": "execute_result"
    }
   ],
   "source": [
    "# who closed tickets\n",
    "csv_file['Owner'].value_counts()"
   ]
  },
  {
   "cell_type": "code",
   "execution_count": 6,
   "metadata": {},
   "outputs": [
    {
     "data": {
      "text/plain": [
       "defect         22\n",
       "enhancement     5\n",
       "task            1\n",
       "Name: Type, dtype: int64"
      ]
     },
     "execution_count": 6,
     "metadata": {},
     "output_type": "execute_result"
    }
   ],
   "source": [
    "# What type of tickets we got\n",
    "csv_file['Type'].value_counts()"
   ]
  },
  {
   "cell_type": "code",
   "execution_count": 7,
   "metadata": {},
   "outputs": [
    {
     "data": {
      "text/plain": [
       "Medium       18\n",
       "High          5\n",
       "Very High     3\n",
       "Low           2\n",
       "Name: Priority, dtype: int64"
      ]
     },
     "execution_count": 7,
     "metadata": {},
     "output_type": "execute_result"
    }
   ],
   "source": [
    "# How many high and very high tickets\n",
    "csv_file['Priority'].value_counts()"
   ]
  },
  {
   "cell_type": "code",
   "execution_count": 8,
   "metadata": {},
   "outputs": [
    {
     "data": {
      "text/plain": [
       "Tor: 0.4.1.x-final    9\n",
       "Tor: 0.4.0.x-final    6\n",
       "Tor: 0.3.5.x-final    5\n",
       "Tor: unspecified      1\n",
       "Tor: 0.3.4.x-final    1\n",
       "Name: Milestone, dtype: int64"
      ]
     },
     "execution_count": 8,
     "metadata": {},
     "output_type": "execute_result"
    }
   ],
   "source": [
    "# which milestone the tickets were for\n",
    "csv_file['Milestone'].value_counts()"
   ]
  },
  {
   "cell_type": "code",
   "execution_count": 11,
   "metadata": {},
   "outputs": [
    {
     "data": {
      "text/plain": [
       "0.1     6\n",
       "0.5     3\n",
       "0.2     2\n",
       "1.0     2\n",
       "2.0     2\n",
       "3.0     2\n",
       "5.0     2\n",
       "0.3     1\n",
       "17.0    1\n",
       "8.0     1\n",
       "13.0    1\n",
       "Name: Points, dtype: int64"
      ]
     },
     "execution_count": 11,
     "metadata": {},
     "output_type": "execute_result"
    }
   ],
   "source": [
    "# How many 'big' tickets got resolved\n",
    "csv_file['Points'].value_counts()\n"
   ]
  },
  {
   "cell_type": "code",
   "execution_count": 15,
   "metadata": {},
   "outputs": [
    {
     "data": {
      "text/plain": [
       "fixed          22\n",
       "implemented     4\n",
       "not a bug       1\n",
       "Name: Resolution, dtype: int64"
      ]
     },
     "execution_count": 15,
     "metadata": {},
     "output_type": "execute_result"
    }
   ],
   "source": [
    "# When during the week were they 'Modified'\n",
    "# How many actual points took\n",
    "# Which percentage is related to the roadmap\n",
    "csv_file['Resolution'].value_counts()"
   ]
  },
  {
   "cell_type": "code",
   "execution_count": null,
   "metadata": {},
   "outputs": [],
   "source": []
  }
 ],
 "metadata": {
  "kernelspec": {
   "display_name": "Python 3",
   "language": "python",
   "name": "python3"
  },
  "language_info": {
   "codemirror_mode": {
    "name": "ipython",
    "version": 3
   },
   "file_extension": ".py",
   "mimetype": "text/x-python",
   "name": "python",
   "nbconvert_exporter": "python",
   "pygments_lexer": "ipython3",
   "version": "3.7.3"
  }
 },
 "nbformat": 4,
 "nbformat_minor": 2
}
