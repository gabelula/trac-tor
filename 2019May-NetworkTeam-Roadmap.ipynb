{
 "cells": [
  {
   "cell_type": "code",
   "execution_count": 1,
   "metadata": {},
   "outputs": [],
   "source": [
    "# Closed and merge_ready tickets (fixed or implemented) for component Core Tor *modified* on April 2019 \n",
    "# Query https://trac.torproject.org/projects/tor/query?status=closed&status=merge_ready&component=%5ECore+Tor&resolution=fixed&resolution=implemented&changetime=1+abr.+2019..30+abr.+2019&col=id&col=summary&col=component&col=status&col=type&col=priority&col=milestone&col=severity&col=actualpoints&col=points&col=sponsor&col=keywords&order=priority\n",
    "\n",
    "csv_path='/Users/gaba/Code/torproject/trac/datasets/NetworkTeam-Roadmap-May-2019.csv'\n",
    "\n",
    "import pandas as pd\n",
    "import matplotlib.pyplot as plt; plt.rcdefaults()\n",
    "import numpy as np\n",
    "\n",
    "csv_file = pd.read_csv(csv_path)\n"
   ]
  },
  {
   "cell_type": "code",
   "execution_count": 3,
   "metadata": {},
   "outputs": [
    {
     "data": {
      "image/png": "[encoded data removed]",
      "text/plain": [
       "<Figure size 432x288 with 1 Axes>"
      ]
     },
     "metadata": {
      "needs_background": "light"
     },
     "output_type": "display_data"
    }
   ],
   "source": [
    "# which sponsors we are going to work on\n",
    "sponsors_by_tickets_closed = csv_file['Sponsor'].value_counts()\n",
    "\n",
    "objects = tuple(sponsors_by_tickets_closed.keys())\n",
    "y_pos = np.arange(len(objects))\n",
    "performance = list(sponsors_by_tickets_closed)\n",
    "\n",
    "plt.barh(y_pos, performance, align='center', alpha=0.5)\n",
    "plt.yticks(y_pos, objects)\n",
    "plt.xlabel('tickets in the roadmap')\n",
    "plt.title('Tickets in the roadmap by Sponsor')\n",
    "\n",
    "plt.show()"
   ]
  },
  {
   "cell_type": "code",
   "execution_count": 4,
   "metadata": {},
   "outputs": [
    {
     "data": {
      "text/plain": [
       "dgoulet      7\n",
       "teor         5\n",
       "asn          4\n",
       "catalyst     3\n",
       "nickm        3\n",
       "mikeperry    2\n",
       "tbb-team     1\n",
       "pidgin       1\n",
       "juga         1\n",
       "Name: Owner, dtype: int64"
      ]
     },
     "execution_count": 4,
     "metadata": {},
     "output_type": "execute_result"
    }
   ],
   "source": [
    "# who has those tickets\n",
    "csv_file['Owner'].value_counts()"
   ]
  },
  {
   "cell_type": "code",
   "execution_count": 6,
   "metadata": {},
   "outputs": [
    {
     "data": {
      "text/plain": [
       "<matplotlib.axes._subplots.AxesSubplot at 0x10e1665c0>"
      ]
     },
     "execution_count": 6,
     "metadata": {},
     "output_type": "execute_result"
    },
    {
     "data": {
      "image/png": "[encoded data removed]",
      "text/plain": [
       "<Figure size 432x288 with 1 Axes>"
      ]
     },
     "metadata": {
      "needs_background": "light"
     },
     "output_type": "display_data"
    }
   ],
   "source": [
    "# What type of tickets we have\n",
    "csv_file['Type'].value_counts().plot.barh()"
   ]
  },
  {
   "cell_type": "code",
   "execution_count": 7,
   "metadata": {},
   "outputs": [
    {
     "data": {
      "text/plain": [
       "Medium       37\n",
       "High         11\n",
       "Low           2\n",
       "Very High     2\n",
       "Immediate     1\n",
       "Name: Priority, dtype: int64"
      ]
     },
     "execution_count": 7,
     "metadata": {},
     "output_type": "execute_result"
    }
   ],
   "source": [
    "# How many high and very high tickets\n",
    "csv_file['Priority'].value_counts()"
   ]
  },
  {
   "cell_type": "code",
   "execution_count": 8,
   "metadata": {},
   "outputs": [
    {
     "data": {
      "text/plain": [
       "Tor: unspecified      22\n",
       "Tor: 0.4.1.x-final    15\n",
       "Tor: 0.4.2.x-final     7\n",
       "Tor: 0.4.0.x-final     1\n",
       "Tor: 0.3.4.x-final     1\n",
       "sbws: unspecified      1\n",
       "Name: Milestone, dtype: int64"
      ]
     },
     "execution_count": 8,
     "metadata": {},
     "output_type": "execute_result"
    }
   ],
   "source": [
    "# which milestone the tickets are for\n",
    "csv_file['Milestone'].value_counts()"
   ]
  },
  {
   "cell_type": "code",
   "execution_count": 9,
   "metadata": {},
   "outputs": [
    {
     "data": {
      "text/plain": [
       "2.0     7\n",
       "1.0     7\n",
       "10.0    3\n",
       "3.0     3\n",
       "5.0     3\n",
       "21.0    2\n",
       "0.5     2\n",
       "24.0    2\n",
       "7.0     2\n",
       "6.0     2\n",
       "16.0    1\n",
       "0.2     1\n",
       "20.0    1\n",
       "4.0     1\n",
       "0.0     1\n",
       "13.0    1\n",
       "23.0    1\n",
       "72.0    1\n",
       "36.0    1\n",
       "8.0     1\n",
       "0.1     1\n",
       "Name: Points, dtype: int64"
      ]
     },
     "execution_count": 9,
     "metadata": {},
     "output_type": "execute_result"
    }
   ],
   "source": [
    "# How 'big' are the tickets we have\n",
    "csv_file['Points'].value_counts()\n"
   ]
  },
  {
   "cell_type": "code",
   "execution_count": 11,
   "metadata": {},
   "outputs": [
    {
     "data": {
      "text/plain": [
       "384.3"
      ]
     },
     "execution_count": 11,
     "metadata": {},
     "output_type": "execute_result"
    }
   ],
   "source": [
    "# How many points in total we have to complete in the team\n",
    "csv_file['Points'].sum()"
   ]
  },
  {
   "cell_type": "code",
   "execution_count": 14,
   "metadata": {},
   "outputs": [
    {
     "data": {
      "text/plain": [
       "22.605882352941176"
      ]
     },
     "execution_count": 14,
     "metadata": {},
     "output_type": "execute_result"
    }
   ],
   "source": [
    "# We have 17 points per week in average for the team. \n",
    "\n",
    "csv_file['Points'].sum()/17\n",
    "\n"
   ]
  },
  {
   "cell_type": "code",
   "execution_count": 17,
   "metadata": {},
   "outputs": [
    {
     "data": {
      "text/plain": [
       "0.5"
      ]
     },
     "execution_count": 17,
     "metadata": {},
     "output_type": "execute_result"
    }
   ],
   "source": [
    "# Sponsor 19 is finishing in a week. \n",
    "\n",
    "# How many more points we must do?\n",
    "csv_file.query('Sponsor==\"Sponsor19-must\"')['Points'].sum()\n"
   ]
  },
  {
   "cell_type": "code",
   "execution_count": 18,
   "metadata": {},
   "outputs": [
    {
     "data": {
      "text/plain": [
       "5.1"
      ]
     },
     "execution_count": 18,
     "metadata": {},
     "output_type": "execute_result"
    }
   ],
   "source": [
    "# Sponsor 19 is finishing in a week. \n",
    "\n",
    "# How many more points we have in the 'maybe we do'?\n",
    "csv_file.query('Sponsor==\"Sponsor19-can\"')['Points'].sum()"
   ]
  },
  {
   "cell_type": "code",
   "execution_count": 24,
   "metadata": {},
   "outputs": [
    {
     "data": {
      "text/html": [
       "<div>\n",
       "<style scoped>\n",
       "    .dataframe tbody tr th:only-of-type {\n",
       "        vertical-align: middle;\n",
       "    }\n",
       "\n",
       "    .dataframe tbody tr th {\n",
       "        vertical-align: top;\n",
       "    }\n",
       "\n",
       "    .dataframe thead th {\n",
       "        text-align: right;\n",
       "    }\n",
       "</style>\n",
       "<table border=\"1\" class=\"dataframe\">\n",
       "  <thead>\n",
       "    <tr style=\"text-align: right;\">\n",
       "      <th></th>\n",
       "      <th>id</th>\n",
       "      <th>Summary</th>\n",
       "      <th>Keywords</th>\n",
       "      <th>Status</th>\n",
       "      <th>Owner</th>\n",
       "      <th>Type</th>\n",
       "      <th>Priority</th>\n",
       "      <th>Milestone</th>\n",
       "      <th>Component</th>\n",
       "      <th>Version</th>\n",
       "      <th>Severity</th>\n",
       "      <th>Resolution</th>\n",
       "      <th>Created</th>\n",
       "      <th>Modified</th>\n",
       "      <th>Actual Points</th>\n",
       "      <th>Parent ID</th>\n",
       "      <th>Points</th>\n",
       "      <th>Sponsor</th>\n",
       "      <th>Reporter</th>\n",
       "    </tr>\n",
       "  </thead>\n",
       "  <tbody>\n",
       "    <tr>\n",
       "      <th>4</th>\n",
       "      <td>28018</td>\n",
       "      <td>Improve accuracy and usefulness of information...</td>\n",
       "      <td>network-team-roadmap-2019-Q1Q2</td>\n",
       "      <td>assigned</td>\n",
       "      <td>catalyst</td>\n",
       "      <td>enhancement</td>\n",
       "      <td>High</td>\n",
       "      <td>Tor: unspecified</td>\n",
       "      <td>Core Tor/Tor</td>\n",
       "      <td>NaN</td>\n",
       "      <td>Normal</td>\n",
       "      <td>NaN</td>\n",
       "      <td>12 oct. 2018 14:11:57</td>\n",
       "      <td>6 may. 2019 18:16:00</td>\n",
       "      <td>NaN</td>\n",
       "      <td>NaN</td>\n",
       "      <td>NaN</td>\n",
       "      <td>Sponsor19-can</td>\n",
       "      <td>nickm</td>\n",
       "    </tr>\n",
       "  </tbody>\n",
       "</table>\n",
       "</div>"
      ],
      "text/plain": [
       "      id                                            Summary  \\\n",
       "4  28018  Improve accuracy and usefulness of information...   \n",
       "\n",
       "                         Keywords    Status     Owner         Type Priority  \\\n",
       "4  network-team-roadmap-2019-Q1Q2  assigned  catalyst  enhancement     High   \n",
       "\n",
       "          Milestone     Component Version Severity  Resolution  \\\n",
       "4  Tor: unspecified  Core Tor/Tor     NaN   Normal         NaN   \n",
       "\n",
       "                 Created              Modified  Actual Points Parent ID  \\\n",
       "4  12 oct. 2018 14:11:57  6 may. 2019 18:16:00            NaN       NaN   \n",
       "\n",
       "   Points        Sponsor Reporter  \n",
       "4     NaN  Sponsor19-can    nickm  "
      ]
     },
     "execution_count": 24,
     "metadata": {},
     "output_type": "execute_result"
    }
   ],
   "source": [
    "csv_file.query('Sponsor==\"Sponsor19-can\"').query('Priority==\"High\"')"
   ]
  },
  {
   "cell_type": "code",
   "execution_count": 25,
   "metadata": {},
   "outputs": [
    {
     "data": {
      "text/plain": [
       "<matplotlib.axes._subplots.AxesSubplot at 0x10e7f8518>"
      ]
     },
     "execution_count": 25,
     "metadata": {},
     "output_type": "execute_result"
    },
    {
     "data": {
      "image/png": "[encoded data removed]",
      "text/plain": [
       "<Figure size 432x288 with 1 Axes>"
      ]
     },
     "metadata": {
      "needs_background": "light"
     },
     "output_type": "display_data"
    }
   ],
   "source": [
    "# What is the severity of the bugs in the roadmap\n",
    "csv_file.query('Type==\"defect\"')['Severity'].value_counts().plot.barh()"
   ]
  },
  {
   "cell_type": "code",
   "execution_count": 23,
   "metadata": {},
   "outputs": [
    {
     "data": {
      "text/html": [
       "<div>\n",
       "<style scoped>\n",
       "    .dataframe tbody tr th:only-of-type {\n",
       "        vertical-align: middle;\n",
       "    }\n",
       "\n",
       "    .dataframe tbody tr th {\n",
       "        vertical-align: top;\n",
       "    }\n",
       "\n",
       "    .dataframe thead th {\n",
       "        text-align: right;\n",
       "    }\n",
       "</style>\n",
       "<table border=\"1\" class=\"dataframe\">\n",
       "  <thead>\n",
       "    <tr style=\"text-align: right;\">\n",
       "      <th></th>\n",
       "      <th>id</th>\n",
       "      <th>Summary</th>\n",
       "      <th>Keywords</th>\n",
       "      <th>Status</th>\n",
       "      <th>Owner</th>\n",
       "      <th>Type</th>\n",
       "      <th>Priority</th>\n",
       "      <th>Milestone</th>\n",
       "      <th>Component</th>\n",
       "      <th>Version</th>\n",
       "      <th>Severity</th>\n",
       "      <th>Resolution</th>\n",
       "      <th>Created</th>\n",
       "      <th>Modified</th>\n",
       "      <th>Actual Points</th>\n",
       "      <th>Parent ID</th>\n",
       "      <th>Points</th>\n",
       "      <th>Sponsor</th>\n",
       "      <th>Reporter</th>\n",
       "    </tr>\n",
       "  </thead>\n",
       "  <tbody>\n",
       "    <tr>\n",
       "      <th>7</th>\n",
       "      <td>28970</td>\n",
       "      <td>tor_bug_occurred_(): Bug: ../src/or/hs_client....</td>\n",
       "      <td>tor-client, tor-hs, postfreeze-ok, 040-unreach...</td>\n",
       "      <td>needs_information</td>\n",
       "      <td>asn</td>\n",
       "      <td>defect</td>\n",
       "      <td>High</td>\n",
       "      <td>Tor: 0.4.1.x-final</td>\n",
       "      <td>Core Tor/Tor</td>\n",
       "      <td>Tor: 0.3.4.9</td>\n",
       "      <td>Critical</td>\n",
       "      <td>NaN</td>\n",
       "      <td>1 ene. 2019 19:30:59</td>\n",
       "      <td>16 may. 2019 16:10:11</td>\n",
       "      <td>NaN</td>\n",
       "      <td>#29995</td>\n",
       "      <td>5.0</td>\n",
       "      <td>Sponsor27-must</td>\n",
       "      <td>torcrash</td>\n",
       "    </tr>\n",
       "  </tbody>\n",
       "</table>\n",
       "</div>"
      ],
      "text/plain": [
       "      id                                            Summary  \\\n",
       "7  28970  tor_bug_occurred_(): Bug: ../src/or/hs_client....   \n",
       "\n",
       "                                            Keywords             Status Owner  \\\n",
       "7  tor-client, tor-hs, postfreeze-ok, 040-unreach...  needs_information   asn   \n",
       "\n",
       "     Type Priority           Milestone     Component       Version  Severity  \\\n",
       "7  defect     High  Tor: 0.4.1.x-final  Core Tor/Tor  Tor: 0.3.4.9  Critical   \n",
       "\n",
       "   Resolution               Created               Modified  Actual Points  \\\n",
       "7         NaN  1 ene. 2019 19:30:59  16 may. 2019 16:10:11            NaN   \n",
       "\n",
       "  Parent ID  Points         Sponsor  Reporter  \n",
       "7    #29995     5.0  Sponsor27-must  torcrash  "
      ]
     },
     "execution_count": 23,
     "metadata": {},
     "output_type": "execute_result"
    }
   ],
   "source": [
    "csv_file.query('Type==\"defect\"').query('Severity==\"Critical\"')"
   ]
  },
  {
   "cell_type": "code",
   "execution_count": null,
   "metadata": {},
   "outputs": [],
   "source": []
  },
  {
   "cell_type": "code",
   "execution_count": null,
   "metadata": {},
   "outputs": [],
   "source": []
  },
  {
   "cell_type": "code",
   "execution_count": null,
   "metadata": {},
   "outputs": [],
   "source": []
  },
  {
   "cell_type": "code",
   "execution_count": null,
   "metadata": {},
   "outputs": [],
   "source": []
  },
  {
   "cell_type": "code",
   "execution_count": null,
   "metadata": {},
   "outputs": [],
   "source": []
  },
  {
   "cell_type": "code",
   "execution_count": null,
   "metadata": {},
   "outputs": [],
   "source": []
  },
  {
   "cell_type": "code",
   "execution_count": null,
   "metadata": {},
   "outputs": [],
   "source": []
  }
 ],
 "metadata": {
  "kernelspec": {
   "display_name": "Python 3",
   "language": "python",
   "name": "python3"
  },
  "language_info": {
   "codemirror_mode": {
    "name": "ipython",
    "version": 3
   },
   "file_extension": ".py",
   "mimetype": "text/x-python",
   "name": "python",
   "nbconvert_exporter": "python",
   "pygments_lexer": "ipython3",
   "version": "3.7.3"
  }
 },
 "nbformat": 4,
 "nbformat_minor": 2
}
