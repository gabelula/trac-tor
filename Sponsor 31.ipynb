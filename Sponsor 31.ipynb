{
 "cells": [
  {
   "cell_type": "code",
   "execution_count": 2,
   "metadata": {},
   "outputs": [],
   "source": [
    "# All tickets for Sponsor 31\n",
    "# Query https://trac.torproject.org/projects/tor/query?status=accepted&status=assigned&status=closed&status=merge_ready&status=needs_information&status=needs_review&status=needs_revision&status=new&status=reopened&sponsor=%5ESponsor31-can&or&sponsor=%5ESponsor31-must&col=id&col=summary&col=sponsor&col=status&col=owner&col=type&col=priority&col=milestone&col=component&col=version&col=resolution&col=changetime&col=actualpoints&col=points&col=keywords&order=priority\n",
    "\n",
    "# I NEED TO FILTER BY network-roadmap keyword but still not doing it because not all tickets in the roadmap are tagged\n",
    "\n",
    "csv_path='/Users/gaba/Code/torproject/trac/datasets/S31_tickets.csv'\n",
    "\n",
    "import pandas as pd\n",
    "import matplotlib.pyplot as plt; plt.rcdefaults()\n",
    "import numpy as np\n",
    "\n",
    "csv_file = pd.read_csv(csv_path)"
   ]
  },
  {
   "cell_type": "code",
   "execution_count": 5,
   "metadata": {},
   "outputs": [],
   "source": [
    "open_tickets = csv_file.query('Status!=\"closed\"')\n",
    "close_tickets = csv_file.query('Status==\"closed\"')"
   ]
  },
  {
   "cell_type": "code",
   "execution_count": 16,
   "metadata": {},
   "outputs": [
    {
     "data": {
      "text/plain": [
       "<matplotlib.axes._subplots.AxesSubplot at 0x1171eedd8>"
      ]
     },
     "execution_count": 16,
     "metadata": {},
     "output_type": "execute_result"
    },
    {
     "data": {
      "image/png": "[encoded data removed]",
      "text/plain": [
       "<Figure size 432x288 with 1 Axes>"
      ]
     },
     "metadata": {
      "needs_background": "light"
     },
     "output_type": "display_data"
    }
   ],
   "source": [
    "################################## FOR CLOSED TICKETS ##################################\n",
    "\n",
    "# which type of tickets were closed\n",
    "close_tickets['Type'].value_counts().plot.barh()"
   ]
  },
  {
   "cell_type": "code",
   "execution_count": 15,
   "metadata": {},
   "outputs": [
    {
     "data": {
      "text/plain": [
       "<matplotlib.axes._subplots.AxesSubplot at 0x117120ba8>"
      ]
     },
     "execution_count": 15,
     "metadata": {},
     "output_type": "execute_result"
    },
    {
     "data": {
      "image/png": "[encoded data removed]",
      "text/plain": [
       "<Figure size 432x288 with 1 Axes>"
      ]
     },
     "metadata": {
      "needs_background": "light"
     },
     "output_type": "display_data"
    }
   ],
   "source": [
    "close_tickets['Priority'].value_counts().plot.barh()"
   ]
  },
  {
   "cell_type": "code",
   "execution_count": 17,
   "metadata": {},
   "outputs": [
    {
     "data": {
      "text/plain": [
       "<matplotlib.axes._subplots.AxesSubplot at 0x1172afc88>"
      ]
     },
     "execution_count": 17,
     "metadata": {},
     "output_type": "execute_result"
    },
    {
     "data": {
      "image/png": "[encoded data removed]",
      "text/plain": [
       "<Figure size 432x288 with 1 Axes>"
      ]
     },
     "metadata": {
      "needs_background": "light"
     },
     "output_type": "display_data"
    }
   ],
   "source": [
    "# who completed them\n",
    "close_tickets['Owner'].value_counts().plot.barh()\n"
   ]
  },
  {
   "cell_type": "code",
   "execution_count": 6,
   "metadata": {},
   "outputs": [
    {
     "data": {
      "text/plain": [
       "<matplotlib.axes._subplots.AxesSubplot at 0x114c157b8>"
      ]
     },
     "execution_count": 6,
     "metadata": {},
     "output_type": "execute_result"
    },
    {
     "data": {
      "image/png": "[encoded data removed]",
      "text/plain": [
       "<Figure size 432x288 with 1 Axes>"
      ]
     },
     "metadata": {
      "needs_background": "light"
     },
     "output_type": "display_data"
    }
   ],
   "source": [
    "################################## FOR OPEN TICKETS ##################################\n",
    "# how is the priority on open tickets\n",
    "open_tickets['Priority'].value_counts().plot.barh()"
   ]
  },
  {
   "cell_type": "code",
   "execution_count": 7,
   "metadata": {},
   "outputs": [
    {
     "data": {
      "text/plain": [
       "<matplotlib.axes._subplots.AxesSubplot at 0x116cdb320>"
      ]
     },
     "execution_count": 7,
     "metadata": {},
     "output_type": "execute_result"
    },
    {
     "data": {
      "image/png": "[encoded data removed]",
      "text/plain": [
       "<Figure size 432x288 with 1 Axes>"
      ]
     },
     "metadata": {
      "needs_background": "light"
     },
     "output_type": "display_data"
    }
   ],
   "source": [
    "# which type of tickets\n",
    "open_tickets['Type'].value_counts().plot.barh()"
   ]
  },
  {
   "cell_type": "code",
   "execution_count": 8,
   "metadata": {},
   "outputs": [
    {
     "data": {
      "text/plain": [
       "<matplotlib.axes._subplots.AxesSubplot at 0x116d5e048>"
      ]
     },
     "execution_count": 8,
     "metadata": {},
     "output_type": "execute_result"
    },
    {
     "data": {
      "image/png": "[encoded data removed]",
      "text/plain": [
       "<Figure size 432x288 with 1 Axes>"
      ]
     },
     "metadata": {
      "needs_background": "light"
     },
     "output_type": "display_data"
    }
   ],
   "source": [
    "\n",
    "# which components we are changing\n",
    "open_tickets['Component'].value_counts().plot.barh()"
   ]
  },
  {
   "cell_type": "code",
   "execution_count": 9,
   "metadata": {},
   "outputs": [
    {
     "data": {
      "text/plain": [
       "<matplotlib.axes._subplots.AxesSubplot at 0x116e20ac8>"
      ]
     },
     "execution_count": 9,
     "metadata": {},
     "output_type": "execute_result"
    },
    {
     "data": {
      "image/png": "[encoded data removed]",
      "text/plain": [
       "<Figure size 432x288 with 1 Axes>"
      ]
     },
     "metadata": {
      "needs_background": "light"
     },
     "output_type": "display_data"
    }
   ],
   "source": [
    "# who is assigned\n",
    "open_tickets['Owner'].value_counts().plot.barh()\n"
   ]
  },
  {
   "cell_type": "code",
   "execution_count": 10,
   "metadata": {},
   "outputs": [
    {
     "data": {
      "text/plain": [
       "<matplotlib.axes._subplots.AxesSubplot at 0x116d51518>"
      ]
     },
     "execution_count": 10,
     "metadata": {},
     "output_type": "execute_result"
    },
    {
     "data": {
      "image/png": "[encoded data removed]",
      "text/plain": [
       "<Figure size 432x288 with 1 Axes>"
      ]
     },
     "metadata": {
      "needs_background": "light"
     },
     "output_type": "display_data"
    }
   ],
   "source": [
    "# how many must tickets versus 'can be done'\n",
    "open_tickets['Sponsor'].value_counts().plot.barh()"
   ]
  },
  {
   "cell_type": "code",
   "execution_count": 11,
   "metadata": {},
   "outputs": [
    {
     "data": {
      "text/plain": [
       "<matplotlib.axes._subplots.AxesSubplot at 0x116fabc18>"
      ]
     },
     "execution_count": 11,
     "metadata": {},
     "output_type": "execute_result"
    },
    {
     "data": {
      "image/png": "[encoded data removed]",
      "text/plain": [
       "<Figure size 432x288 with 1 Axes>"
      ]
     },
     "metadata": {
      "needs_background": "light"
     },
     "output_type": "display_data"
    }
   ],
   "source": [
    "# how many sponsor31-must tickets are already done and how many still need to be finish\n",
    "csv_file.query('Sponsor==\"Sponsor31-must\"')['Status'].value_counts().plot.barh()\n"
   ]
  },
  {
   "cell_type": "code",
   "execution_count": 12,
   "metadata": {},
   "outputs": [
    {
     "data": {
      "text/plain": [
       "<matplotlib.axes._subplots.AxesSubplot at 0x1149f34a8>"
      ]
     },
     "execution_count": 12,
     "metadata": {},
     "output_type": "execute_result"
    },
    {
     "data": {
      "image/png": "[encoded data removed]",
      "text/plain": [
       "<Figure size 432x288 with 1 Axes>"
      ]
     },
     "metadata": {
      "needs_background": "light"
     },
     "output_type": "display_data"
    }
   ],
   "source": [
    "# what about the 'could be done' tickets\n",
    "csv_file.query('Sponsor==\"Sponsor31-can\"')['Status'].value_counts().plot.barh()"
   ]
  },
  {
   "cell_type": "code",
   "execution_count": 13,
   "metadata": {
    "scrolled": true
   },
   "outputs": [
    {
     "data": {
      "text/html": [
       "<div>\n",
       "<style scoped>\n",
       "    .dataframe tbody tr th:only-of-type {\n",
       "        vertical-align: middle;\n",
       "    }\n",
       "\n",
       "    .dataframe tbody tr th {\n",
       "        vertical-align: top;\n",
       "    }\n",
       "\n",
       "    .dataframe thead th {\n",
       "        text-align: right;\n",
       "    }\n",
       "</style>\n",
       "<table border=\"1\" class=\"dataframe\">\n",
       "  <thead>\n",
       "    <tr style=\"text-align: right;\">\n",
       "      <th></th>\n",
       "      <th>id</th>\n",
       "      <th>Summary</th>\n",
       "      <th>Sponsor</th>\n",
       "      <th>Points</th>\n",
       "      <th>Status</th>\n",
       "      <th>Owner</th>\n",
       "      <th>Type</th>\n",
       "      <th>Priority</th>\n",
       "      <th>Milestone</th>\n",
       "      <th>Component</th>\n",
       "      <th>Version</th>\n",
       "      <th>Resolution</th>\n",
       "      <th>Modified</th>\n",
       "      <th>Actual Points</th>\n",
       "      <th>Keywords</th>\n",
       "    </tr>\n",
       "  </thead>\n",
       "  <tbody>\n",
       "    <tr>\n",
       "      <th>1</th>\n",
       "      <td>25493</td>\n",
       "      <td>Improve patterns for cleaning up static variab...</td>\n",
       "      <td>Sponsor31-can</td>\n",
       "      <td>NaN</td>\n",
       "      <td>new</td>\n",
       "      <td>NaN</td>\n",
       "      <td>enhancement</td>\n",
       "      <td>Medium</td>\n",
       "      <td>Tor: unspecified</td>\n",
       "      <td>Core Tor/Tor</td>\n",
       "      <td>NaN</td>\n",
       "      <td>NaN</td>\n",
       "      <td>15 ene. 2019 18:36:07</td>\n",
       "      <td>NaN</td>\n",
       "      <td>034-triage-20180328, 034-roadmap-subtask, 034-...</td>\n",
       "    </tr>\n",
       "    <tr>\n",
       "      <th>24</th>\n",
       "      <td>29656</td>\n",
       "      <td>describe global initialization in our tinytest...</td>\n",
       "      <td>Sponsor31-can</td>\n",
       "      <td>NaN</td>\n",
       "      <td>new</td>\n",
       "      <td>NaN</td>\n",
       "      <td>defect</td>\n",
       "      <td>Medium</td>\n",
       "      <td>Tor: unspecified</td>\n",
       "      <td>Core Tor/Tor</td>\n",
       "      <td>NaN</td>\n",
       "      <td>NaN</td>\n",
       "      <td>4 mar. 2019 18:34:33</td>\n",
       "      <td>NaN</td>\n",
       "      <td>developer-doc</td>\n",
       "    </tr>\n",
       "    <tr>\n",
       "      <th>25</th>\n",
       "      <td>29746</td>\n",
       "      <td>Improve Tor best practices tracker</td>\n",
       "      <td>Sponsor31-can</td>\n",
       "      <td>NaN</td>\n",
       "      <td>new</td>\n",
       "      <td>NaN</td>\n",
       "      <td>defect</td>\n",
       "      <td>Medium</td>\n",
       "      <td>Tor: 0.4.1.x-final</td>\n",
       "      <td>Core Tor/Tor</td>\n",
       "      <td>NaN</td>\n",
       "      <td>NaN</td>\n",
       "      <td>13 mar. 2019 17:21:56</td>\n",
       "      <td>NaN</td>\n",
       "      <td>practracker, tech-debt, refactoring, easy</td>\n",
       "    </tr>\n",
       "    <tr>\n",
       "      <th>33</th>\n",
       "      <td>29895</td>\n",
       "      <td>avoid storing ints in void* in mainloop event ...</td>\n",
       "      <td>Sponsor31-can</td>\n",
       "      <td>NaN</td>\n",
       "      <td>new</td>\n",
       "      <td>NaN</td>\n",
       "      <td>defect</td>\n",
       "      <td>Medium</td>\n",
       "      <td>Tor: unspecified</td>\n",
       "      <td>Core Tor/Tor</td>\n",
       "      <td>NaN</td>\n",
       "      <td>NaN</td>\n",
       "      <td>25 mar. 2019 20:38:55</td>\n",
       "      <td>NaN</td>\n",
       "      <td>portability, technical-debt</td>\n",
       "    </tr>\n",
       "    <tr>\n",
       "      <th>46</th>\n",
       "      <td>30292</td>\n",
       "      <td>Refactor periodic event system so each subsyst...</td>\n",
       "      <td>Sponsor31-can</td>\n",
       "      <td>NaN</td>\n",
       "      <td>assigned</td>\n",
       "      <td>nickm</td>\n",
       "      <td>enhancement</td>\n",
       "      <td>Medium</td>\n",
       "      <td>Tor: 0.4.1.x-final</td>\n",
       "      <td>Core Tor/Tor</td>\n",
       "      <td>NaN</td>\n",
       "      <td>NaN</td>\n",
       "      <td>25 abr. 2019 19:02:45</td>\n",
       "      <td>NaN</td>\n",
       "      <td>NaN</td>\n",
       "    </tr>\n",
       "  </tbody>\n",
       "</table>\n",
       "</div>"
      ],
      "text/plain": [
       "       id                                            Summary        Sponsor  \\\n",
       "1   25493  Improve patterns for cleaning up static variab...  Sponsor31-can   \n",
       "24  29656  describe global initialization in our tinytest...  Sponsor31-can   \n",
       "25  29746                 Improve Tor best practices tracker  Sponsor31-can   \n",
       "33  29895  avoid storing ints in void* in mainloop event ...  Sponsor31-can   \n",
       "46  30292  Refactor periodic event system so each subsyst...  Sponsor31-can   \n",
       "\n",
       "    Points    Status  Owner         Type Priority           Milestone  \\\n",
       "1      NaN       new    NaN  enhancement   Medium    Tor: unspecified   \n",
       "24     NaN       new    NaN       defect   Medium    Tor: unspecified   \n",
       "25     NaN       new    NaN       defect   Medium  Tor: 0.4.1.x-final   \n",
       "33     NaN       new    NaN       defect   Medium    Tor: unspecified   \n",
       "46     NaN  assigned  nickm  enhancement   Medium  Tor: 0.4.1.x-final   \n",
       "\n",
       "       Component Version Resolution               Modified  Actual Points  \\\n",
       "1   Core Tor/Tor     NaN        NaN  15 ene. 2019 18:36:07            NaN   \n",
       "24  Core Tor/Tor     NaN        NaN   4 mar. 2019 18:34:33            NaN   \n",
       "25  Core Tor/Tor     NaN        NaN  13 mar. 2019 17:21:56            NaN   \n",
       "33  Core Tor/Tor     NaN        NaN  25 mar. 2019 20:38:55            NaN   \n",
       "46  Core Tor/Tor     NaN        NaN  25 abr. 2019 19:02:45            NaN   \n",
       "\n",
       "                                             Keywords  \n",
       "1   034-triage-20180328, 034-roadmap-subtask, 034-...  \n",
       "24                                      developer-doc  \n",
       "25          practracker, tech-debt, refactoring, easy  \n",
       "33                        portability, technical-debt  \n",
       "46                                                NaN  "
      ]
     },
     "execution_count": 13,
     "metadata": {},
     "output_type": "execute_result"
    }
   ],
   "source": [
    "# are all of the open tickets estimated?\n",
    "csv_file[csv_file.Points.isnull()].query('Status!=\"closed\"')"
   ]
  },
  {
   "cell_type": "code",
   "execution_count": 20,
   "metadata": {},
   "outputs": [
    {
     "data": {
      "text/html": [
       "<div>\n",
       "<style scoped>\n",
       "    .dataframe tbody tr th:only-of-type {\n",
       "        vertical-align: middle;\n",
       "    }\n",
       "\n",
       "    .dataframe tbody tr th {\n",
       "        vertical-align: top;\n",
       "    }\n",
       "\n",
       "    .dataframe thead th {\n",
       "        text-align: right;\n",
       "    }\n",
       "</style>\n",
       "<table border=\"1\" class=\"dataframe\">\n",
       "  <thead>\n",
       "    <tr style=\"text-align: right;\">\n",
       "      <th></th>\n",
       "      <th>id</th>\n",
       "      <th>Summary</th>\n",
       "      <th>Sponsor</th>\n",
       "      <th>Points</th>\n",
       "      <th>Status</th>\n",
       "      <th>Owner</th>\n",
       "      <th>Type</th>\n",
       "      <th>Priority</th>\n",
       "      <th>Milestone</th>\n",
       "      <th>Component</th>\n",
       "      <th>Version</th>\n",
       "      <th>Resolution</th>\n",
       "      <th>Modified</th>\n",
       "      <th>Actual Points</th>\n",
       "      <th>Keywords</th>\n",
       "    </tr>\n",
       "  </thead>\n",
       "  <tbody>\n",
       "    <tr>\n",
       "      <th>4</th>\n",
       "      <td>29209</td>\n",
       "      <td>Reduce visibility of more data type internals</td>\n",
       "      <td>Sponsor31-can</td>\n",
       "      <td>15.0</td>\n",
       "      <td>new</td>\n",
       "      <td>NaN</td>\n",
       "      <td>task</td>\n",
       "      <td>Medium</td>\n",
       "      <td>Tor: 0.4.1.x-final</td>\n",
       "      <td>Core Tor/Tor</td>\n",
       "      <td>NaN</td>\n",
       "      <td>NaN</td>\n",
       "      <td>2 may. 2019 02:15:09</td>\n",
       "      <td>3.5</td>\n",
       "      <td>technical-debt refactoring</td>\n",
       "    </tr>\n",
       "    <tr>\n",
       "      <th>5</th>\n",
       "      <td>29210</td>\n",
       "      <td>Distribute control.c functionality across vari...</td>\n",
       "      <td>Sponsor31-can</td>\n",
       "      <td>10.0</td>\n",
       "      <td>new</td>\n",
       "      <td>NaN</td>\n",
       "      <td>task</td>\n",
       "      <td>Medium</td>\n",
       "      <td>Tor: 0.4.1.x-final</td>\n",
       "      <td>Core Tor/Tor</td>\n",
       "      <td>NaN</td>\n",
       "      <td>NaN</td>\n",
       "      <td>9 abr. 2019 18:17:01</td>\n",
       "      <td>NaN</td>\n",
       "      <td>NaN</td>\n",
       "    </tr>\n",
       "    <tr>\n",
       "      <th>6</th>\n",
       "      <td>29211</td>\n",
       "      <td>Distribute config.c functionality across more ...</td>\n",
       "      <td>Sponsor31-can</td>\n",
       "      <td>15.0</td>\n",
       "      <td>new</td>\n",
       "      <td>NaN</td>\n",
       "      <td>task</td>\n",
       "      <td>Medium</td>\n",
       "      <td>Tor: 0.4.1.x-final</td>\n",
       "      <td>Core Tor/Tor</td>\n",
       "      <td>NaN</td>\n",
       "      <td>NaN</td>\n",
       "      <td>9 abr. 2019 18:22:02</td>\n",
       "      <td>NaN</td>\n",
       "      <td>NaN</td>\n",
       "    </tr>\n",
       "    <tr>\n",
       "      <th>7</th>\n",
       "      <td>29212</td>\n",
       "      <td>Create more modularity inside src/core</td>\n",
       "      <td>Sponsor31-can</td>\n",
       "      <td>15.0</td>\n",
       "      <td>new</td>\n",
       "      <td>NaN</td>\n",
       "      <td>task</td>\n",
       "      <td>Medium</td>\n",
       "      <td>Tor: 0.4.2.x-final</td>\n",
       "      <td>Core Tor/Tor</td>\n",
       "      <td>NaN</td>\n",
       "      <td>NaN</td>\n",
       "      <td>15 may. 2019 23:38:48</td>\n",
       "      <td>NaN</td>\n",
       "      <td>NaN</td>\n",
       "    </tr>\n",
       "    <tr>\n",
       "      <th>8</th>\n",
       "      <td>29213</td>\n",
       "      <td>Minimize the boundary between src/core and src...</td>\n",
       "      <td>Sponsor31-can</td>\n",
       "      <td>15.0</td>\n",
       "      <td>new</td>\n",
       "      <td>NaN</td>\n",
       "      <td>defect</td>\n",
       "      <td>Medium</td>\n",
       "      <td>Tor: 0.4.2.x-final</td>\n",
       "      <td>Core Tor/Tor</td>\n",
       "      <td>NaN</td>\n",
       "      <td>NaN</td>\n",
       "      <td>9 abr. 2019 18:22:56</td>\n",
       "      <td>NaN</td>\n",
       "      <td>NaN</td>\n",
       "    </tr>\n",
       "    <tr>\n",
       "      <th>17</th>\n",
       "      <td>29222</td>\n",
       "      <td>Fix biggest violations of coding best-practices</td>\n",
       "      <td>Sponsor31-can</td>\n",
       "      <td>10.0</td>\n",
       "      <td>new</td>\n",
       "      <td>NaN</td>\n",
       "      <td>task</td>\n",
       "      <td>Medium</td>\n",
       "      <td>Tor: 0.4.2.x-final</td>\n",
       "      <td>Core Tor/Tor</td>\n",
       "      <td>NaN</td>\n",
       "      <td>NaN</td>\n",
       "      <td>9 abr. 2019 18:22:56</td>\n",
       "      <td>NaN</td>\n",
       "      <td>NaN</td>\n",
       "    </tr>\n",
       "    <tr>\n",
       "      <th>20</th>\n",
       "      <td>29225</td>\n",
       "      <td>Improve efficiency and flexibility of threadpo...</td>\n",
       "      <td>Sponsor31-can</td>\n",
       "      <td>15.0</td>\n",
       "      <td>new</td>\n",
       "      <td>NaN</td>\n",
       "      <td>task</td>\n",
       "      <td>Medium</td>\n",
       "      <td>Tor: 0.4.2.x-final</td>\n",
       "      <td>Core Tor/Tor</td>\n",
       "      <td>NaN</td>\n",
       "      <td>NaN</td>\n",
       "      <td>9 abr. 2019 18:22:56</td>\n",
       "      <td>NaN</td>\n",
       "      <td>NaN</td>\n",
       "    </tr>\n",
       "    <tr>\n",
       "      <th>22</th>\n",
       "      <td>29227</td>\n",
       "      <td>Audit Tor roles (relay, bridge, etc) and remov...</td>\n",
       "      <td>Sponsor31-can</td>\n",
       "      <td>15.0</td>\n",
       "      <td>new</td>\n",
       "      <td>NaN</td>\n",
       "      <td>defect</td>\n",
       "      <td>Medium</td>\n",
       "      <td>Tor: 0.4.2.x-final</td>\n",
       "      <td>Core Tor/Tor</td>\n",
       "      <td>NaN</td>\n",
       "      <td>NaN</td>\n",
       "      <td>9 abr. 2019 18:22:56</td>\n",
       "      <td>NaN</td>\n",
       "      <td>NaN</td>\n",
       "    </tr>\n",
       "    <tr>\n",
       "      <th>23</th>\n",
       "      <td>29228</td>\n",
       "      <td>Unify some or all of Tor's various message/eve...</td>\n",
       "      <td>Sponsor31-can</td>\n",
       "      <td>10.0</td>\n",
       "      <td>new</td>\n",
       "      <td>NaN</td>\n",
       "      <td>task</td>\n",
       "      <td>Medium</td>\n",
       "      <td>Tor: 0.4.2.x-final</td>\n",
       "      <td>Core Tor/Tor</td>\n",
       "      <td>NaN</td>\n",
       "      <td>NaN</td>\n",
       "      <td>9 abr. 2019 18:22:56</td>\n",
       "      <td>NaN</td>\n",
       "      <td>NaN</td>\n",
       "    </tr>\n",
       "  </tbody>\n",
       "</table>\n",
       "</div>"
      ],
      "text/plain": [
       "       id                                            Summary        Sponsor  \\\n",
       "4   29209      Reduce visibility of more data type internals  Sponsor31-can   \n",
       "5   29210  Distribute control.c functionality across vari...  Sponsor31-can   \n",
       "6   29211  Distribute config.c functionality across more ...  Sponsor31-can   \n",
       "7   29212             Create more modularity inside src/core  Sponsor31-can   \n",
       "8   29213  Minimize the boundary between src/core and src...  Sponsor31-can   \n",
       "17  29222    Fix biggest violations of coding best-practices  Sponsor31-can   \n",
       "20  29225  Improve efficiency and flexibility of threadpo...  Sponsor31-can   \n",
       "22  29227  Audit Tor roles (relay, bridge, etc) and remov...  Sponsor31-can   \n",
       "23  29228  Unify some or all of Tor's various message/eve...  Sponsor31-can   \n",
       "\n",
       "    Points Status Owner    Type Priority           Milestone     Component  \\\n",
       "4     15.0    new   NaN    task   Medium  Tor: 0.4.1.x-final  Core Tor/Tor   \n",
       "5     10.0    new   NaN    task   Medium  Tor: 0.4.1.x-final  Core Tor/Tor   \n",
       "6     15.0    new   NaN    task   Medium  Tor: 0.4.1.x-final  Core Tor/Tor   \n",
       "7     15.0    new   NaN    task   Medium  Tor: 0.4.2.x-final  Core Tor/Tor   \n",
       "8     15.0    new   NaN  defect   Medium  Tor: 0.4.2.x-final  Core Tor/Tor   \n",
       "17    10.0    new   NaN    task   Medium  Tor: 0.4.2.x-final  Core Tor/Tor   \n",
       "20    15.0    new   NaN    task   Medium  Tor: 0.4.2.x-final  Core Tor/Tor   \n",
       "22    15.0    new   NaN  defect   Medium  Tor: 0.4.2.x-final  Core Tor/Tor   \n",
       "23    10.0    new   NaN    task   Medium  Tor: 0.4.2.x-final  Core Tor/Tor   \n",
       "\n",
       "   Version Resolution               Modified  Actual Points  \\\n",
       "4      NaN        NaN   2 may. 2019 02:15:09            3.5   \n",
       "5      NaN        NaN   9 abr. 2019 18:17:01            NaN   \n",
       "6      NaN        NaN   9 abr. 2019 18:22:02            NaN   \n",
       "7      NaN        NaN  15 may. 2019 23:38:48            NaN   \n",
       "8      NaN        NaN   9 abr. 2019 18:22:56            NaN   \n",
       "17     NaN        NaN   9 abr. 2019 18:22:56            NaN   \n",
       "20     NaN        NaN   9 abr. 2019 18:22:56            NaN   \n",
       "22     NaN        NaN   9 abr. 2019 18:22:56            NaN   \n",
       "23     NaN        NaN   9 abr. 2019 18:22:56            NaN   \n",
       "\n",
       "                      Keywords  \n",
       "4   technical-debt refactoring  \n",
       "5                          NaN  \n",
       "6                          NaN  \n",
       "7                          NaN  \n",
       "8                          NaN  \n",
       "17                         NaN  \n",
       "20                         NaN  \n",
       "22                         NaN  \n",
       "23                         NaN  "
      ]
     },
     "execution_count": 20,
     "metadata": {},
     "output_type": "execute_result"
    }
   ],
   "source": [
    "# which ones are the big tickets?\n",
    "open_tickets.query('Points>6')"
   ]
  },
  {
   "cell_type": "code",
   "execution_count": 14,
   "metadata": {},
   "outputs": [
    {
     "data": {
      "text/plain": [
       "Points    53.733333\n",
       "dtype: float64"
      ]
     },
     "execution_count": 14,
     "metadata": {},
     "output_type": "execute_result"
    }
   ],
   "source": [
    "# how many points still need to be done\n",
    "points_to_go = open_tickets.filter(['Points']).sum()\n",
    "\n",
    "points_to_go/3 # thinking 3 days per week for 1 developer\n",
    "\n",
    "# starting June: we have until december:  24 semanas  ---> We will need at least 2.5 developers to complete all open tickets in this sponsor"
   ]
  },
  {
   "cell_type": "code",
   "execution_count": null,
   "metadata": {},
   "outputs": [],
   "source": []
  }
 ],
 "metadata": {
  "kernelspec": {
   "display_name": "Python 3",
   "language": "python",
   "name": "python3"
  },
  "language_info": {
   "codemirror_mode": {
    "name": "ipython",
    "version": 3
   },
   "file_extension": ".py",
   "mimetype": "text/x-python",
   "name": "python",
   "nbconvert_exporter": "python",
   "pygments_lexer": "ipython3",
   "version": "3.7.3"
  }
 },
 "nbformat": 4,
 "nbformat_minor": 2
}
