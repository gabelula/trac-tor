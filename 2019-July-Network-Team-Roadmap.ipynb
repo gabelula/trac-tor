{
 "cells": [
  {
   "cell_type": "code",
   "execution_count": 1,
   "metadata": {},
   "outputs": [],
   "source": [
    "# All tickets in the roadmap for July for the network team roadmap\n",
    "# Query https://trac.torproject.org/projects/tor/query?status=accepted&status=assigned&status=closed&status=merge_ready&status=needs_information&status=needs_review&status=needs_revision&status=new&status=reopened&keywords=~network-team-roadmap-august&col=id&col=summary&col=status&col=owner&col=type&col=priority&col=milestone&col=component&col=severity&col=resolution&col=actualpoints&col=points&col=reviewer&col=sponsor&order=priority\n",
    "\n",
    "csv_path='/Users/gaba/Code/torproject/trac/datasets/NetworkTeam-Roadmap-July-2019.csv'\n",
    "\n",
    "import pandas as pd\n",
    "import matplotlib.pyplot as plt; plt.rcdefaults()\n",
    "import numpy as np\n",
    "\n",
    "csv_file = pd.read_csv(csv_path)\n",
    "open_tickets = csv_file.query('Status!=\"closed\"')\n",
    "closed_tickets = csv_file.query('Status==\"closed\"')\n"
   ]
  },
  {
   "cell_type": "code",
   "execution_count": 2,
   "metadata": {},
   "outputs": [
    {
     "data": {
      "image/png": "[encoded data removed]",
      "text/plain": [
       "<Figure size 432x288 with 1 Axes>"
      ]
     },
     "metadata": {
      "needs_background": "light"
     },
     "output_type": "display_data"
    }
   ],
   "source": [
    "# which sponsors got ticket closed\n",
    "closed_tickets_by_sponsor = csv_file.query('Status==\"closed\"')['Sponsor'].value_counts()\n",
    "\n",
    "objects = tuple(closed_tickets_by_sponsor.keys())\n",
    "y_pos = np.arange(len(objects))\n",
    "performance = list(closed_tickets_by_sponsor)\n",
    "\n",
    "plt.barh(y_pos, performance, align='center', alpha=0.5)\n",
    "plt.yticks(y_pos, objects)\n",
    "plt.xlabel('tickets closed')\n",
    "plt.title('Tickets closed by Sponsor')\n",
    "\n",
    "plt.show()"
   ]
  },
  {
   "cell_type": "code",
   "execution_count": 3,
   "metadata": {},
   "outputs": [
    {
     "data": {
      "text/plain": [
       "nickm        7\n",
       "dgoulet      2\n",
       "mikeperry    1\n",
       "Name: Owner, dtype: int64"
      ]
     },
     "execution_count": 3,
     "metadata": {},
     "output_type": "execute_result"
    }
   ],
   "source": [
    "# who closed tickets\n",
    "closed_tickets['Owner'].value_counts()"
   ]
  },
  {
   "cell_type": "code",
   "execution_count": 4,
   "metadata": {},
   "outputs": [
    {
     "data": {
      "text/plain": [
       "<matplotlib.axes._subplots.AxesSubplot at 0x11cf5b710>"
      ]
     },
     "execution_count": 4,
     "metadata": {},
     "output_type": "execute_result"
    },
    {
     "data": {
      "image/png": "[encoded data removed]",
      "text/plain": [
       "<Figure size 432x288 with 1 Axes>"
      ]
     },
     "metadata": {
      "needs_background": "light"
     },
     "output_type": "display_data"
    }
   ],
   "source": [
    "# What type of tickets we got\n",
    "closed_tickets['Type'].value_counts().plot.barh()"
   ]
  },
  {
   "cell_type": "code",
   "execution_count": 5,
   "metadata": {},
   "outputs": [
    {
     "data": {
      "text/plain": [
       "Medium    8\n",
       "High      2\n",
       "Name: Priority, dtype: int64"
      ]
     },
     "execution_count": 5,
     "metadata": {},
     "output_type": "execute_result"
    }
   ],
   "source": [
    "# How many high and very high tickets\n",
    "closed_tickets['Priority'].value_counts()"
   ]
  },
  {
   "cell_type": "code",
   "execution_count": 6,
   "metadata": {},
   "outputs": [
    {
     "data": {
      "text/plain": [
       "0.1     2\n",
       "0.2     1\n",
       "1.0     1\n",
       "1.5     1\n",
       "10.0    1\n",
       "3.0     1\n",
       "Name: Points, dtype: int64"
      ]
     },
     "execution_count": 6,
     "metadata": {},
     "output_type": "execute_result"
    }
   ],
   "source": [
    "# How many 'big' tickets got resolved\n",
    "closed_tickets['Points'].value_counts()"
   ]
  },
  {
   "cell_type": "code",
   "execution_count": 7,
   "metadata": {},
   "outputs": [
    {
     "data": {
      "text/plain": [
       "fixed          8\n",
       "implemented    2\n",
       "Name: Resolution, dtype: int64"
      ]
     },
     "execution_count": 7,
     "metadata": {},
     "output_type": "execute_result"
    }
   ],
   "source": [
    "\n",
    "# How tickets got resolved\n",
    "closed_tickets['Resolution'].value_counts()"
   ]
  },
  {
   "cell_type": "code",
   "execution_count": 15,
   "metadata": {},
   "outputs": [
    {
     "data": {
      "text/plain": [
       "<matplotlib.axes._subplots.AxesSubplot at 0x11d4ef390>"
      ]
     },
     "execution_count": 15,
     "metadata": {},
     "output_type": "execute_result"
    },
    {
     "data": {
      "image/png": "[encoded data removed]",
      "text/plain": [
       "<Figure size 432x288 with 1 Axes>"
      ]
     },
     "metadata": {
      "needs_background": "light"
     },
     "output_type": "display_data"
    }
   ],
   "source": [
    "# How many days took to complete the ticket versus estimation\n",
    "closed_tickets.filter(items=['Sponsor', 'Points', 'Actual Points']).groupby('Sponsor').sum().plot.barh()\n"
   ]
  },
  {
   "cell_type": "code",
   "execution_count": 16,
   "metadata": {},
   "outputs": [
    {
     "data": {
      "text/plain": [
       "Actual Points    3.9\n",
       "dtype: float64"
      ]
     },
     "execution_count": 16,
     "metadata": {},
     "output_type": "execute_result"
    }
   ],
   "source": [
    "# Velocity for the month of July\n",
    "\n",
    "closed_tickets.filter(items=['Actual Points']).sum()"
   ]
  },
  {
   "cell_type": "code",
   "execution_count": 17,
   "metadata": {},
   "outputs": [
    {
     "data": {
      "text/plain": [
       "<matplotlib.axes._subplots.AxesSubplot at 0x11d53fb00>"
      ]
     },
     "execution_count": 17,
     "metadata": {},
     "output_type": "execute_result"
    },
    {
     "data": {
      "image/png": "[encoded data removed]",
      "text/plain": [
       "<Figure size 432x288 with 1 Axes>"
      ]
     },
     "metadata": {
      "needs_background": "light"
     },
     "output_type": "display_data"
    }
   ],
   "source": [
    "# How much work was not sponsored\n",
    "\n",
    "sponsor_and_not = closed_tickets['Sponsor'].notnull().value_counts().rename(lambda x: 'Sponsored' if x else 'Not Sponsored')\n",
    "\n",
    "sponsor_and_not.plot.barh()\n"
   ]
  },
  {
   "cell_type": "code",
   "execution_count": 19,
   "metadata": {},
   "outputs": [
    {
     "data": {
      "text/html": [
       "<div>\n",
       "<style scoped>\n",
       "    .dataframe tbody tr th:only-of-type {\n",
       "        vertical-align: middle;\n",
       "    }\n",
       "\n",
       "    .dataframe tbody tr th {\n",
       "        vertical-align: top;\n",
       "    }\n",
       "\n",
       "    .dataframe thead th {\n",
       "        text-align: right;\n",
       "    }\n",
       "</style>\n",
       "<table border=\"1\" class=\"dataframe\">\n",
       "  <thead>\n",
       "    <tr style=\"text-align: right;\">\n",
       "      <th></th>\n",
       "      <th>id</th>\n",
       "      <th>Summary</th>\n",
       "      <th>Status</th>\n",
       "      <th>Owner</th>\n",
       "      <th>Type</th>\n",
       "      <th>Priority</th>\n",
       "      <th>Milestone</th>\n",
       "      <th>Component</th>\n",
       "      <th>Severity</th>\n",
       "      <th>Resolution</th>\n",
       "      <th>Actual Points</th>\n",
       "      <th>Points</th>\n",
       "      <th>Reviewer</th>\n",
       "      <th>Sponsor</th>\n",
       "    </tr>\n",
       "  </thead>\n",
       "  <tbody>\n",
       "    <tr>\n",
       "      <th>4</th>\n",
       "      <td>29746</td>\n",
       "      <td>Improve Tor best practices tracker</td>\n",
       "      <td>assigned</td>\n",
       "      <td>nickm</td>\n",
       "      <td>enhancement</td>\n",
       "      <td>Medium</td>\n",
       "      <td>Tor: 0.4.2.x-final</td>\n",
       "      <td>Core Tor/Tor</td>\n",
       "      <td>Normal</td>\n",
       "      <td>NaN</td>\n",
       "      <td>0.1</td>\n",
       "      <td>3.0</td>\n",
       "      <td>teor, ahf</td>\n",
       "      <td>Sponsor31-can</td>\n",
       "    </tr>\n",
       "    <tr>\n",
       "      <th>9</th>\n",
       "      <td>31338</td>\n",
       "      <td>Practracker --list-overbroad produces confusin...</td>\n",
       "      <td>assigned</td>\n",
       "      <td>nickm</td>\n",
       "      <td>defect</td>\n",
       "      <td>Medium</td>\n",
       "      <td>Tor: 0.4.2.x-final</td>\n",
       "      <td>Core Tor/Tor</td>\n",
       "      <td>Normal</td>\n",
       "      <td>NaN</td>\n",
       "      <td>NaN</td>\n",
       "      <td>0.1</td>\n",
       "      <td>NaN</td>\n",
       "      <td>Sponsor31-can</td>\n",
       "    </tr>\n",
       "  </tbody>\n",
       "</table>\n",
       "</div>"
      ],
      "text/plain": [
       "      id                                            Summary    Status  Owner  \\\n",
       "4  29746                 Improve Tor best practices tracker  assigned  nickm   \n",
       "9  31338  Practracker --list-overbroad produces confusin...  assigned  nickm   \n",
       "\n",
       "          Type Priority           Milestone     Component Severity Resolution  \\\n",
       "4  enhancement   Medium  Tor: 0.4.2.x-final  Core Tor/Tor   Normal        NaN   \n",
       "9       defect   Medium  Tor: 0.4.2.x-final  Core Tor/Tor   Normal        NaN   \n",
       "\n",
       "   Actual Points  Points   Reviewer        Sponsor  \n",
       "4            0.1     3.0  teor, ahf  Sponsor31-can  \n",
       "9            NaN     0.1        NaN  Sponsor31-can  "
      ]
     },
     "execution_count": 19,
     "metadata": {},
     "output_type": "execute_result"
    }
   ],
   "source": [
    "open_tickets"
   ]
  },
  {
   "cell_type": "code",
   "execution_count": null,
   "metadata": {},
   "outputs": [],
   "source": []
  }
 ],
 "metadata": {
  "kernelspec": {
   "display_name": "Python 3",
   "language": "python",
   "name": "python3"
  },
  "language_info": {
   "codemirror_mode": {
    "name": "ipython",
    "version": 3
   },
   "file_extension": ".py",
   "mimetype": "text/x-python",
   "name": "python",
   "nbconvert_exporter": "python",
   "pygments_lexer": "ipython3",
   "version": "3.7.3"
  }
 },
 "nbformat": 4,
 "nbformat_minor": 2
}
