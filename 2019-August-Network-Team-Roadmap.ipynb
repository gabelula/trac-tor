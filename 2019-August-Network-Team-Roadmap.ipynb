{
 "cells": [
  {
   "cell_type": "code",
   "execution_count": 1,
   "metadata": {},
   "outputs": [],
   "source": [
    "# All tickets in the roadmap for July for the network team roadmap\n",
    "# Query https://trac.torproject.org/projects/tor/query?status=accepted&status=assigned&status=closed&status=merge_ready&status=needs_information&status=needs_review&status=needs_revision&status=new&status=reopened&keywords=~network-team-roadmap-july&col=id&col=summary&col=status&col=owner&col=type&col=priority&col=milestone&col=component&col=severity&col=resolution&col=actualpoints&col=points&col=reviewer&col=sponsor&order=priority\n",
    "\n",
    "csv_path='/Users/gaba/Code/torproject/trac/datasets/NetworkTeam-Roadmap-August-2019.csv'\n",
    "\n",
    "import pandas as pd\n",
    "import matplotlib.pyplot as plt; plt.rcdefaults()\n",
    "import numpy as np\n",
    "\n",
    "csv_file = pd.read_csv(csv_path)\n",
    "open_tickets = csv_file.query('Status!=\"closed\"')\n",
    "closed_tickets = csv_file.query('Status==\"closed\"')\n"
   ]
  },
  {
   "cell_type": "code",
   "execution_count": 2,
   "metadata": {},
   "outputs": [
    {
     "data": {
      "image/png": "[encoded data removed]",
      "text/plain": [
       "<Figure size 432x288 with 1 Axes>"
      ]
     },
     "metadata": {
      "needs_background": "light"
     },
     "output_type": "display_data"
    }
   ],
   "source": [
    "# which sponsors got ticket closed\n",
    "closed_tickets_by_sponsor = csv_file.query('Status==\"closed\"')['Sponsor'].value_counts()\n",
    "\n",
    "objects = tuple(closed_tickets_by_sponsor.keys())\n",
    "y_pos = np.arange(len(objects))\n",
    "performance = list(closed_tickets_by_sponsor)\n",
    "\n",
    "plt.barh(y_pos, performance, align='center', alpha=0.5)\n",
    "plt.yticks(y_pos, objects)\n",
    "plt.xlabel('tickets closed')\n",
    "plt.title('Tickets closed by Sponsor')\n",
    "\n",
    "plt.show()"
   ]
  },
  {
   "cell_type": "code",
   "execution_count": 11,
   "metadata": {},
   "outputs": [
    {
     "data": {
      "text/plain": [
       "nickm      9\n",
       "teor       5\n",
       "dgoulet    3\n",
       "Name: Owner, dtype: int64"
      ]
     },
     "execution_count": 11,
     "metadata": {},
     "output_type": "execute_result"
    }
   ],
   "source": [
    "# who closed tickets\n",
    "closed_tickets['Owner'].value_counts()"
   ]
  },
  {
   "cell_type": "code",
   "execution_count": 10,
   "metadata": {},
   "outputs": [
    {
     "data": {
      "text/plain": [
       "<matplotlib.axes._subplots.AxesSubplot at 0x1165cd0b8>"
      ]
     },
     "execution_count": 10,
     "metadata": {},
     "output_type": "execute_result"
    },
    {
     "data": {
      "image/png": "[encoded data removed]",
      "text/plain": [
       "<Figure size 432x288 with 1 Axes>"
      ]
     },
     "metadata": {
      "needs_background": "light"
     },
     "output_type": "display_data"
    }
   ],
   "source": [
    "# What type of tickets we got\n",
    "closed_tickets['Type'].value_counts().plot.barh()"
   ]
  },
  {
   "cell_type": "code",
   "execution_count": 8,
   "metadata": {},
   "outputs": [
    {
     "data": {
      "text/plain": [
       "Medium       17\n",
       "Very High     1\n",
       "Name: Priority, dtype: int64"
      ]
     },
     "execution_count": 8,
     "metadata": {},
     "output_type": "execute_result"
    }
   ],
   "source": [
    "# How many high and very high tickets\n",
    "closed_tickets['Priority'].value_counts()"
   ]
  },
  {
   "cell_type": "code",
   "execution_count": 9,
   "metadata": {},
   "outputs": [
    {
     "data": {
      "text/plain": [
       "0.1    3\n",
       "3.0    3\n",
       "0.0    2\n",
       "1.0    2\n",
       "7.0    2\n",
       "0.5    1\n",
       "2.0    1\n",
       "1.5    1\n",
       "Name: Points, dtype: int64"
      ]
     },
     "execution_count": 9,
     "metadata": {},
     "output_type": "execute_result"
    }
   ],
   "source": [
    "# How many 'big' tickets got resolved\n",
    "closed_tickets['Points'].value_counts()"
   ]
  },
  {
   "cell_type": "code",
   "execution_count": 7,
   "metadata": {},
   "outputs": [
    {
     "data": {
      "text/plain": [
       "fixed          15\n",
       "implemented     2\n",
       "wontfix         1\n",
       "Name: Resolution, dtype: int64"
      ]
     },
     "execution_count": 7,
     "metadata": {},
     "output_type": "execute_result"
    }
   ],
   "source": [
    "\n",
    "# How tickets got resolved\n",
    "closed_tickets['Resolution'].value_counts()"
   ]
  },
  {
   "cell_type": "code",
   "execution_count": 8,
   "metadata": {},
   "outputs": [
    {
     "data": {
      "text/plain": [
       "<matplotlib.axes._subplots.AxesSubplot at 0x11d0b3ac8>"
      ]
     },
     "execution_count": 8,
     "metadata": {},
     "output_type": "execute_result"
    },
    {
     "data": {
      "image/png": "[encoded data removed]",
      "text/plain": [
       "<Figure size 432x288 with 1 Axes>"
      ]
     },
     "metadata": {
      "needs_background": "light"
     },
     "output_type": "display_data"
    }
   ],
   "source": [
    "# How many days took to complete the ticket versus estimation\n",
    "closed_tickets.filter(items=['Sponsor', 'Points', 'Actual Points']).groupby('Sponsor').sum().plot.barh()\n"
   ]
  },
  {
   "cell_type": "code",
   "execution_count": 12,
   "metadata": {},
   "outputs": [
    {
     "data": {
      "text/plain": [
       "Actual Points    7.7\n",
       "dtype: float64"
      ]
     },
     "execution_count": 12,
     "metadata": {},
     "output_type": "execute_result"
    }
   ],
   "source": [
    "# Velocity for the month of August\n",
    "\n",
    "closed_tickets.filter(items=['Actual Points']).sum()"
   ]
  },
  {
   "cell_type": "code",
   "execution_count": 13,
   "metadata": {},
   "outputs": [
    {
     "data": {
      "text/plain": [
       "<matplotlib.axes._subplots.AxesSubplot at 0x11868a128>"
      ]
     },
     "execution_count": 13,
     "metadata": {},
     "output_type": "execute_result"
    },
    {
     "data": {
      "image/png": "[encoded data removed]",
      "text/plain": [
       "<Figure size 432x288 with 1 Axes>"
      ]
     },
     "metadata": {
      "needs_background": "light"
     },
     "output_type": "display_data"
    }
   ],
   "source": [
    "# How much work was not sponsored\n",
    "\n",
    "sponsor_and_not = closed_tickets['Sponsor'].notnull().value_counts().rename(lambda x: 'Sponsored' if x else 'Not Sponsored')\n",
    "\n",
    "sponsor_and_not.plot.barh()\n"
   ]
  },
  {
   "cell_type": "code",
   "execution_count": 14,
   "metadata": {},
   "outputs": [
    {
     "data": {
      "text/html": [
       "<div>\n",
       "<style scoped>\n",
       "    .dataframe tbody tr th:only-of-type {\n",
       "        vertical-align: middle;\n",
       "    }\n",
       "\n",
       "    .dataframe tbody tr th {\n",
       "        vertical-align: top;\n",
       "    }\n",
       "\n",
       "    .dataframe thead th {\n",
       "        text-align: right;\n",
       "    }\n",
       "</style>\n",
       "<table border=\"1\" class=\"dataframe\">\n",
       "  <thead>\n",
       "    <tr style=\"text-align: right;\">\n",
       "      <th></th>\n",
       "      <th>id</th>\n",
       "      <th>Summary</th>\n",
       "      <th>Status</th>\n",
       "      <th>Owner</th>\n",
       "      <th>Type</th>\n",
       "      <th>Priority</th>\n",
       "      <th>Milestone</th>\n",
       "      <th>Component</th>\n",
       "      <th>Severity</th>\n",
       "      <th>Resolution</th>\n",
       "      <th>Actual Points</th>\n",
       "      <th>Points</th>\n",
       "      <th>Reviewer</th>\n",
       "      <th>Sponsor</th>\n",
       "    </tr>\n",
       "  </thead>\n",
       "  <tbody>\n",
       "    <tr>\n",
       "      <th>1</th>\n",
       "      <td>28804</td>\n",
       "      <td>Add circuit padding to padding-spec.txt and wr...</td>\n",
       "      <td>assigned</td>\n",
       "      <td>mikeperry</td>\n",
       "      <td>defect</td>\n",
       "      <td>High</td>\n",
       "      <td>Tor: unspecified</td>\n",
       "      <td>Core Tor/Tor</td>\n",
       "      <td>Normal</td>\n",
       "      <td>NaN</td>\n",
       "      <td>NaN</td>\n",
       "      <td>2.0</td>\n",
       "      <td>asn</td>\n",
       "      <td>Sponsor2</td>\n",
       "    </tr>\n",
       "    <tr>\n",
       "      <th>2</th>\n",
       "      <td>28970</td>\n",
       "      <td>tor_bug_occurred_(): Bug: ../src/or/hs_client....</td>\n",
       "      <td>reopened</td>\n",
       "      <td>dgoulet</td>\n",
       "      <td>defect</td>\n",
       "      <td>High</td>\n",
       "      <td>Tor: 0.4.2.x-final</td>\n",
       "      <td>Core Tor/Tor</td>\n",
       "      <td>Critical</td>\n",
       "      <td>NaN</td>\n",
       "      <td>NaN</td>\n",
       "      <td>5.0</td>\n",
       "      <td>NaN</td>\n",
       "      <td>Sponsor27-must</td>\n",
       "    </tr>\n",
       "    <tr>\n",
       "      <th>5</th>\n",
       "      <td>23818</td>\n",
       "      <td>Make v2 and v3 single onion services retry all...</td>\n",
       "      <td>merge_ready</td>\n",
       "      <td>teor</td>\n",
       "      <td>defect</td>\n",
       "      <td>Medium</td>\n",
       "      <td>Tor: 0.4.0.x-final</td>\n",
       "      <td>Core Tor/Tor</td>\n",
       "      <td>Normal</td>\n",
       "      <td>NaN</td>\n",
       "      <td>0.2</td>\n",
       "      <td>1.0</td>\n",
       "      <td>asn</td>\n",
       "      <td>Sponsor27-must</td>\n",
       "    </tr>\n",
       "    <tr>\n",
       "      <th>7</th>\n",
       "      <td>26294</td>\n",
       "      <td>attacker can force intro point rotation by ddos</td>\n",
       "      <td>merge_ready</td>\n",
       "      <td>asn</td>\n",
       "      <td>defect</td>\n",
       "      <td>Medium</td>\n",
       "      <td>Tor: 0.4.2.x-final</td>\n",
       "      <td>Core Tor/Tor</td>\n",
       "      <td>Normal</td>\n",
       "      <td>NaN</td>\n",
       "      <td>6.0</td>\n",
       "      <td>7.0</td>\n",
       "      <td>dgoulet</td>\n",
       "      <td>Sponsor27-must</td>\n",
       "    </tr>\n",
       "    <tr>\n",
       "      <th>8</th>\n",
       "      <td>29211</td>\n",
       "      <td>Distribute config.c functionality across more ...</td>\n",
       "      <td>assigned</td>\n",
       "      <td>nickm</td>\n",
       "      <td>task</td>\n",
       "      <td>Medium</td>\n",
       "      <td>Tor: 0.4.3.x-final</td>\n",
       "      <td>Core Tor/Tor</td>\n",
       "      <td>Normal</td>\n",
       "      <td>NaN</td>\n",
       "      <td>NaN</td>\n",
       "      <td>23.0</td>\n",
       "      <td>NaN</td>\n",
       "      <td>Sponsor31-can</td>\n",
       "    </tr>\n",
       "    <tr>\n",
       "      <th>9</th>\n",
       "      <td>30901</td>\n",
       "      <td>Add control port trace logging to tor</td>\n",
       "      <td>needs_revision</td>\n",
       "      <td>teor</td>\n",
       "      <td>enhancement</td>\n",
       "      <td>Medium</td>\n",
       "      <td>Tor: 0.4.2.x-final</td>\n",
       "      <td>Core Tor/Tor</td>\n",
       "      <td>Normal</td>\n",
       "      <td>NaN</td>\n",
       "      <td>1.8</td>\n",
       "      <td>1.0</td>\n",
       "      <td>NaN</td>\n",
       "      <td>Sponsor31-can</td>\n",
       "    </tr>\n",
       "    <tr>\n",
       "      <th>14</th>\n",
       "      <td>31241</td>\n",
       "      <td>Refactor config validation</td>\n",
       "      <td>needs_revision</td>\n",
       "      <td>nickm</td>\n",
       "      <td>task</td>\n",
       "      <td>Medium</td>\n",
       "      <td>Tor: 0.4.3.x-final</td>\n",
       "      <td>Core Tor/Tor</td>\n",
       "      <td>Normal</td>\n",
       "      <td>NaN</td>\n",
       "      <td>NaN</td>\n",
       "      <td>1.5</td>\n",
       "      <td>NaN</td>\n",
       "      <td>Sponsor31-can</td>\n",
       "    </tr>\n",
       "    <tr>\n",
       "      <th>20</th>\n",
       "      <td>31508</td>\n",
       "      <td>config refactor: create simple summaries for e...</td>\n",
       "      <td>assigned</td>\n",
       "      <td>nickm</td>\n",
       "      <td>task</td>\n",
       "      <td>Medium</td>\n",
       "      <td>Tor: 0.4.2.x-final</td>\n",
       "      <td>Core Tor/Tor</td>\n",
       "      <td>Normal</td>\n",
       "      <td>NaN</td>\n",
       "      <td>NaN</td>\n",
       "      <td>NaN</td>\n",
       "      <td>NaN</td>\n",
       "      <td>Sponsor31-can</td>\n",
       "    </tr>\n",
       "    <tr>\n",
       "      <th>21</th>\n",
       "      <td>31509</td>\n",
       "      <td>config refactor: make test-stem should pass</td>\n",
       "      <td>assigned</td>\n",
       "      <td>NaN</td>\n",
       "      <td>defect</td>\n",
       "      <td>Medium</td>\n",
       "      <td>Tor: 0.4.2.x-final</td>\n",
       "      <td>Core Tor/Tor</td>\n",
       "      <td>Normal</td>\n",
       "      <td>NaN</td>\n",
       "      <td>NaN</td>\n",
       "      <td>NaN</td>\n",
       "      <td>NaN</td>\n",
       "      <td>Sponsor31-must</td>\n",
       "    </tr>\n",
       "    <tr>\n",
       "      <th>22</th>\n",
       "      <td>31511</td>\n",
       "      <td>config refactor: split mass change commits int...</td>\n",
       "      <td>assigned</td>\n",
       "      <td>nickm</td>\n",
       "      <td>task</td>\n",
       "      <td>Medium</td>\n",
       "      <td>Tor: 0.4.2.x-final</td>\n",
       "      <td>Core Tor/Tor</td>\n",
       "      <td>Normal</td>\n",
       "      <td>NaN</td>\n",
       "      <td>NaN</td>\n",
       "      <td>NaN</td>\n",
       "      <td>NaN</td>\n",
       "      <td>Sponsor31-must</td>\n",
       "    </tr>\n",
       "    <tr>\n",
       "      <th>23</th>\n",
       "      <td>31516</td>\n",
       "      <td>config refactor: every function table entry sh...</td>\n",
       "      <td>assigned</td>\n",
       "      <td>nickm</td>\n",
       "      <td>defect</td>\n",
       "      <td>Medium</td>\n",
       "      <td>Tor: 0.4.2.x-final</td>\n",
       "      <td>Core Tor/Tor</td>\n",
       "      <td>Normal</td>\n",
       "      <td>NaN</td>\n",
       "      <td>NaN</td>\n",
       "      <td>NaN</td>\n",
       "      <td>NaN</td>\n",
       "      <td>Sponsor31-must</td>\n",
       "    </tr>\n",
       "    <tr>\n",
       "      <th>26</th>\n",
       "      <td>31544</td>\n",
       "      <td>sr: Check why some sr_disk_state fields need t...</td>\n",
       "      <td>assigned</td>\n",
       "      <td>nickm</td>\n",
       "      <td>defect</td>\n",
       "      <td>Medium</td>\n",
       "      <td>Tor: 0.4.2.x-final</td>\n",
       "      <td>Core Tor/Tor</td>\n",
       "      <td>Normal</td>\n",
       "      <td>NaN</td>\n",
       "      <td>NaN</td>\n",
       "      <td>NaN</td>\n",
       "      <td>NaN</td>\n",
       "      <td>NaN</td>\n",
       "    </tr>\n",
       "    <tr>\n",
       "      <th>30</th>\n",
       "      <td>31638</td>\n",
       "      <td>config: Always check for valid function argume...</td>\n",
       "      <td>assigned</td>\n",
       "      <td>nickm</td>\n",
       "      <td>task</td>\n",
       "      <td>Medium</td>\n",
       "      <td>Tor: 0.4.2.x-final</td>\n",
       "      <td>Core Tor/Tor</td>\n",
       "      <td>Normal</td>\n",
       "      <td>NaN</td>\n",
       "      <td>NaN</td>\n",
       "      <td>NaN</td>\n",
       "      <td>NaN</td>\n",
       "      <td>NaN</td>\n",
       "    </tr>\n",
       "  </tbody>\n",
       "</table>\n",
       "</div>"
      ],
      "text/plain": [
       "       id                                            Summary          Status  \\\n",
       "1   28804  Add circuit padding to padding-spec.txt and wr...        assigned   \n",
       "2   28970  tor_bug_occurred_(): Bug: ../src/or/hs_client....        reopened   \n",
       "5   23818  Make v2 and v3 single onion services retry all...     merge_ready   \n",
       "7   26294    attacker can force intro point rotation by ddos     merge_ready   \n",
       "8   29211  Distribute config.c functionality across more ...        assigned   \n",
       "9   30901              Add control port trace logging to tor  needs_revision   \n",
       "14  31241                         Refactor config validation  needs_revision   \n",
       "20  31508  config refactor: create simple summaries for e...        assigned   \n",
       "21  31509        config refactor: make test-stem should pass        assigned   \n",
       "22  31511  config refactor: split mass change commits int...        assigned   \n",
       "23  31516  config refactor: every function table entry sh...        assigned   \n",
       "26  31544  sr: Check why some sr_disk_state fields need t...        assigned   \n",
       "30  31638  config: Always check for valid function argume...        assigned   \n",
       "\n",
       "        Owner         Type Priority           Milestone     Component  \\\n",
       "1   mikeperry       defect     High    Tor: unspecified  Core Tor/Tor   \n",
       "2     dgoulet       defect     High  Tor: 0.4.2.x-final  Core Tor/Tor   \n",
       "5        teor       defect   Medium  Tor: 0.4.0.x-final  Core Tor/Tor   \n",
       "7         asn       defect   Medium  Tor: 0.4.2.x-final  Core Tor/Tor   \n",
       "8       nickm         task   Medium  Tor: 0.4.3.x-final  Core Tor/Tor   \n",
       "9        teor  enhancement   Medium  Tor: 0.4.2.x-final  Core Tor/Tor   \n",
       "14      nickm         task   Medium  Tor: 0.4.3.x-final  Core Tor/Tor   \n",
       "20      nickm         task   Medium  Tor: 0.4.2.x-final  Core Tor/Tor   \n",
       "21        NaN       defect   Medium  Tor: 0.4.2.x-final  Core Tor/Tor   \n",
       "22      nickm         task   Medium  Tor: 0.4.2.x-final  Core Tor/Tor   \n",
       "23      nickm       defect   Medium  Tor: 0.4.2.x-final  Core Tor/Tor   \n",
       "26      nickm       defect   Medium  Tor: 0.4.2.x-final  Core Tor/Tor   \n",
       "30      nickm         task   Medium  Tor: 0.4.2.x-final  Core Tor/Tor   \n",
       "\n",
       "    Severity Resolution  Actual Points  Points Reviewer         Sponsor  \n",
       "1     Normal        NaN            NaN     2.0      asn        Sponsor2  \n",
       "2   Critical        NaN            NaN     5.0      NaN  Sponsor27-must  \n",
       "5     Normal        NaN            0.2     1.0      asn  Sponsor27-must  \n",
       "7     Normal        NaN            6.0     7.0  dgoulet  Sponsor27-must  \n",
       "8     Normal        NaN            NaN    23.0      NaN   Sponsor31-can  \n",
       "9     Normal        NaN            1.8     1.0      NaN   Sponsor31-can  \n",
       "14    Normal        NaN            NaN     1.5      NaN   Sponsor31-can  \n",
       "20    Normal        NaN            NaN     NaN      NaN   Sponsor31-can  \n",
       "21    Normal        NaN            NaN     NaN      NaN  Sponsor31-must  \n",
       "22    Normal        NaN            NaN     NaN      NaN  Sponsor31-must  \n",
       "23    Normal        NaN            NaN     NaN      NaN  Sponsor31-must  \n",
       "26    Normal        NaN            NaN     NaN      NaN             NaN  \n",
       "30    Normal        NaN            NaN     NaN      NaN             NaN  "
      ]
     },
     "execution_count": 14,
     "metadata": {},
     "output_type": "execute_result"
    }
   ],
   "source": [
    "open_tickets"
   ]
  },
  {
   "cell_type": "code",
   "execution_count": null,
   "metadata": {},
   "outputs": [],
   "source": []
  }
 ],
 "metadata": {
  "kernelspec": {
   "display_name": "Python 3",
   "language": "python",
   "name": "python3"
  },
  "language_info": {
   "codemirror_mode": {
    "name": "ipython",
    "version": 3
   },
   "file_extension": ".py",
   "mimetype": "text/x-python",
   "name": "python",
   "nbconvert_exporter": "python",
   "pygments_lexer": "ipython3",
   "version": "3.7.3"
  }
 },
 "nbformat": 4,
 "nbformat_minor": 2
}
