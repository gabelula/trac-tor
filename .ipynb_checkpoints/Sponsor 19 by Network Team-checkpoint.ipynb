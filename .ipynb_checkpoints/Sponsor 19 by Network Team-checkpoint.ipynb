{
 "cells": [
  {
   "cell_type": "code",
   "execution_count": 33,
   "metadata": {},
   "outputs": [],
   "source": [
    "import pandas as pd\n",
    "import matplotlib.pyplot as plt"
   ]
  },
  {
   "cell_type": "code",
   "execution_count": 5,
   "metadata": {},
   "outputs": [
    {
     "data": {
      "text/html": [
       "<div>\n",
       "<style scoped>\n",
       "    .dataframe tbody tr th:only-of-type {\n",
       "        vertical-align: middle;\n",
       "    }\n",
       "\n",
       "    .dataframe tbody tr th {\n",
       "        vertical-align: top;\n",
       "    }\n",
       "\n",
       "    .dataframe thead th {\n",
       "        text-align: right;\n",
       "    }\n",
       "</style>\n",
       "<table border=\"1\" class=\"dataframe\">\n",
       "  <thead>\n",
       "    <tr style=\"text-align: right;\">\n",
       "      <th></th>\n",
       "      <th>id</th>\n",
       "      <th>Summary</th>\n",
       "      <th>Sponsor</th>\n",
       "      <th>Component</th>\n",
       "      <th>Status</th>\n",
       "      <th>Owner</th>\n",
       "      <th>Type</th>\n",
       "      <th>Priority</th>\n",
       "      <th>Milestone</th>\n",
       "      <th>Severity</th>\n",
       "      <th>Keywords</th>\n",
       "    </tr>\n",
       "  </thead>\n",
       "  <tbody>\n",
       "    <tr>\n",
       "      <th>0</th>\n",
       "      <td>28018</td>\n",
       "      <td>Improve accuracy and usefulness of information...</td>\n",
       "      <td>Sponsor19-must</td>\n",
       "      <td>Core Tor/Tor</td>\n",
       "      <td>assigned</td>\n",
       "      <td>catalyst</td>\n",
       "      <td>enhancement</td>\n",
       "      <td>High</td>\n",
       "      <td>Tor: 0.4.0.x-final</td>\n",
       "      <td>Normal</td>\n",
       "      <td>ex-sponsor8</td>\n",
       "    </tr>\n",
       "    <tr>\n",
       "      <th>1</th>\n",
       "      <td>25061</td>\n",
       "      <td>Relays consider it a bootstrapping failure if ...</td>\n",
       "      <td>Sponsor19-can</td>\n",
       "      <td>Core Tor/Tor</td>\n",
       "      <td>assigned</td>\n",
       "      <td>catalyst</td>\n",
       "      <td>defect</td>\n",
       "      <td>Medium</td>\n",
       "      <td>Tor: unspecified</td>\n",
       "      <td>Normal</td>\n",
       "      <td>backport-032, 033-backport, stability, 033-tri...</td>\n",
       "    </tr>\n",
       "    <tr>\n",
       "      <th>2</th>\n",
       "      <td>26630</td>\n",
       "      <td>Profile-driven work to reduce memory usage, fo...</td>\n",
       "      <td>Sponsor19</td>\n",
       "      <td>Core Tor/Tor</td>\n",
       "      <td>new</td>\n",
       "      <td>NaN</td>\n",
       "      <td>defect</td>\n",
       "      <td>Medium</td>\n",
       "      <td>Tor: 0.4.0.x-final</td>\n",
       "      <td>Normal</td>\n",
       "      <td>035-roadmap-master, 035-triaged-in-20180711</td>\n",
       "    </tr>\n",
       "    <tr>\n",
       "      <th>3</th>\n",
       "      <td>27104</td>\n",
       "      <td>report intermediate status when building appli...</td>\n",
       "      <td>Sponsor19-can</td>\n",
       "      <td>Core Tor/Tor</td>\n",
       "      <td>assigned</td>\n",
       "      <td>catalyst</td>\n",
       "      <td>enhancement</td>\n",
       "      <td>Medium</td>\n",
       "      <td>Tor: 0.4.0.x-final</td>\n",
       "      <td>Normal</td>\n",
       "      <td>usability, ux, ux-team, bootstrap, 035-roadmap...</td>\n",
       "    </tr>\n",
       "    <tr>\n",
       "      <th>4</th>\n",
       "      <td>27308</td>\n",
       "      <td>report bootstrap phase when we actually start,...</td>\n",
       "      <td>Sponsor19-can</td>\n",
       "      <td>Core Tor/Tor</td>\n",
       "      <td>assigned</td>\n",
       "      <td>catalyst</td>\n",
       "      <td>enhancement</td>\n",
       "      <td>Medium</td>\n",
       "      <td>Tor: 0.4.0.x-final</td>\n",
       "      <td>Normal</td>\n",
       "      <td>usability, ux, ux-team, bootstrap, 035-roadmap...</td>\n",
       "    </tr>\n",
       "    <tr>\n",
       "      <th>5</th>\n",
       "      <td>28180</td>\n",
       "      <td>Signal mechanism from PT processes to Tor</td>\n",
       "      <td>Sponsor19</td>\n",
       "      <td>Core Tor/Tor</td>\n",
       "      <td>accepted</td>\n",
       "      <td>dgoulet</td>\n",
       "      <td>enhancement</td>\n",
       "      <td>Medium</td>\n",
       "      <td>Tor: 0.4.0.x-final</td>\n",
       "      <td>Normal</td>\n",
       "      <td>tor-pt, 040-roadmap-subtask</td>\n",
       "    </tr>\n",
       "    <tr>\n",
       "      <th>6</th>\n",
       "      <td>28181</td>\n",
       "      <td>spec: Add to pt-spec.txt control messages goin...</td>\n",
       "      <td>Sponsor19</td>\n",
       "      <td>Core Tor/Tor</td>\n",
       "      <td>needs_review</td>\n",
       "      <td>dgoulet</td>\n",
       "      <td>enhancement</td>\n",
       "      <td>Medium</td>\n",
       "      <td>Tor: 0.4.0.x-final</td>\n",
       "      <td>Normal</td>\n",
       "      <td>tor-spec, tor-pt, 040-roadmap-subtask</td>\n",
       "    </tr>\n",
       "    <tr>\n",
       "      <th>7</th>\n",
       "      <td>28182</td>\n",
       "      <td>spec: Add to control-spec.txt some pluggable t...</td>\n",
       "      <td>Sponsor19</td>\n",
       "      <td>Core Tor/Tor</td>\n",
       "      <td>needs_review</td>\n",
       "      <td>dgoulet</td>\n",
       "      <td>enhancement</td>\n",
       "      <td>Medium</td>\n",
       "      <td>Tor: 0.4.0.x-final</td>\n",
       "      <td>Normal</td>\n",
       "      <td>tor-spec, tor-pt, 040-roadmap-subtask</td>\n",
       "    </tr>\n",
       "    <tr>\n",
       "      <th>8</th>\n",
       "      <td>28281</td>\n",
       "      <td>outline of high-level bootstrap tracker abstra...</td>\n",
       "      <td>Sponsor19</td>\n",
       "      <td>Core Tor/Tor</td>\n",
       "      <td>assigned</td>\n",
       "      <td>catalyst</td>\n",
       "      <td>task</td>\n",
       "      <td>Medium</td>\n",
       "      <td>Tor: 0.4.0.x-final</td>\n",
       "      <td>Normal</td>\n",
       "      <td>s8-bootstrap, bootstrap-arch</td>\n",
       "    </tr>\n",
       "    <tr>\n",
       "      <th>9</th>\n",
       "      <td>28925</td>\n",
       "      <td>distinguish PT vs proxy for real in bootstrap ...</td>\n",
       "      <td>Sponsor19</td>\n",
       "      <td>Core Tor/Tor</td>\n",
       "      <td>assigned</td>\n",
       "      <td>catalyst</td>\n",
       "      <td>defect</td>\n",
       "      <td>Medium</td>\n",
       "      <td>Tor: 0.4.0.x-final</td>\n",
       "      <td>Normal</td>\n",
       "      <td>s8-bootstrap, usability, ux, tor-pt</td>\n",
       "    </tr>\n",
       "    <tr>\n",
       "      <th>10</th>\n",
       "      <td>28928</td>\n",
       "      <td>update control-spec.txt for new bootstrap phases</td>\n",
       "      <td>Sponsor19</td>\n",
       "      <td>Core Tor/Tor</td>\n",
       "      <td>needs_review</td>\n",
       "      <td>catalyst</td>\n",
       "      <td>task</td>\n",
       "      <td>Medium</td>\n",
       "      <td>Tor: 0.4.0.x-final</td>\n",
       "      <td>Normal</td>\n",
       "      <td>sponsor19-also, s8-bootstrap, tor-spec</td>\n",
       "    </tr>\n",
       "    <tr>\n",
       "      <th>11</th>\n",
       "      <td>28930</td>\n",
       "      <td>consider reordering PT/proxy phases</td>\n",
       "      <td>Sponsor19</td>\n",
       "      <td>Core Tor/Tor</td>\n",
       "      <td>assigned</td>\n",
       "      <td>catalyst</td>\n",
       "      <td>enhancement</td>\n",
       "      <td>Medium</td>\n",
       "      <td>Tor: 0.4.0.x-final</td>\n",
       "      <td>Normal</td>\n",
       "      <td>sponsor19-also, s8-bootstrap, pt, proxy</td>\n",
       "    </tr>\n",
       "    <tr>\n",
       "      <th>12</th>\n",
       "      <td>29024</td>\n",
       "      <td>Add pluggable-transport support to Chutney</td>\n",
       "      <td>Sponsor19</td>\n",
       "      <td>Core Tor/Chutney</td>\n",
       "      <td>new</td>\n",
       "      <td>NaN</td>\n",
       "      <td>task</td>\n",
       "      <td>Medium</td>\n",
       "      <td>Tor: 0.4.1.x-final</td>\n",
       "      <td>Normal</td>\n",
       "      <td>tor-pt, 041-proposed-on-roadmap</td>\n",
       "    </tr>\n",
       "  </tbody>\n",
       "</table>\n",
       "</div>"
      ],
      "text/plain": [
       "       id                                            Summary         Sponsor  \\\n",
       "0   28018  Improve accuracy and usefulness of information...  Sponsor19-must   \n",
       "1   25061  Relays consider it a bootstrapping failure if ...   Sponsor19-can   \n",
       "2   26630  Profile-driven work to reduce memory usage, fo...       Sponsor19   \n",
       "3   27104  report intermediate status when building appli...   Sponsor19-can   \n",
       "4   27308  report bootstrap phase when we actually start,...   Sponsor19-can   \n",
       "5   28180          Signal mechanism from PT processes to Tor       Sponsor19   \n",
       "6   28181  spec: Add to pt-spec.txt control messages goin...       Sponsor19   \n",
       "7   28182  spec: Add to control-spec.txt some pluggable t...       Sponsor19   \n",
       "8   28281  outline of high-level bootstrap tracker abstra...       Sponsor19   \n",
       "9   28925  distinguish PT vs proxy for real in bootstrap ...       Sponsor19   \n",
       "10  28928   update control-spec.txt for new bootstrap phases       Sponsor19   \n",
       "11  28930                consider reordering PT/proxy phases       Sponsor19   \n",
       "12  29024         Add pluggable-transport support to Chutney       Sponsor19   \n",
       "\n",
       "           Component        Status     Owner         Type Priority  \\\n",
       "0       Core Tor/Tor      assigned  catalyst  enhancement     High   \n",
       "1       Core Tor/Tor      assigned  catalyst       defect   Medium   \n",
       "2       Core Tor/Tor           new       NaN       defect   Medium   \n",
       "3       Core Tor/Tor      assigned  catalyst  enhancement   Medium   \n",
       "4       Core Tor/Tor      assigned  catalyst  enhancement   Medium   \n",
       "5       Core Tor/Tor      accepted   dgoulet  enhancement   Medium   \n",
       "6       Core Tor/Tor  needs_review   dgoulet  enhancement   Medium   \n",
       "7       Core Tor/Tor  needs_review   dgoulet  enhancement   Medium   \n",
       "8       Core Tor/Tor      assigned  catalyst         task   Medium   \n",
       "9       Core Tor/Tor      assigned  catalyst       defect   Medium   \n",
       "10      Core Tor/Tor  needs_review  catalyst         task   Medium   \n",
       "11      Core Tor/Tor      assigned  catalyst  enhancement   Medium   \n",
       "12  Core Tor/Chutney           new       NaN         task   Medium   \n",
       "\n",
       "             Milestone Severity  \\\n",
       "0   Tor: 0.4.0.x-final   Normal   \n",
       "1     Tor: unspecified   Normal   \n",
       "2   Tor: 0.4.0.x-final   Normal   \n",
       "3   Tor: 0.4.0.x-final   Normal   \n",
       "4   Tor: 0.4.0.x-final   Normal   \n",
       "5   Tor: 0.4.0.x-final   Normal   \n",
       "6   Tor: 0.4.0.x-final   Normal   \n",
       "7   Tor: 0.4.0.x-final   Normal   \n",
       "8   Tor: 0.4.0.x-final   Normal   \n",
       "9   Tor: 0.4.0.x-final   Normal   \n",
       "10  Tor: 0.4.0.x-final   Normal   \n",
       "11  Tor: 0.4.0.x-final   Normal   \n",
       "12  Tor: 0.4.1.x-final   Normal   \n",
       "\n",
       "                                             Keywords  \n",
       "0                                         ex-sponsor8  \n",
       "1   backport-032, 033-backport, stability, 033-tri...  \n",
       "2         035-roadmap-master, 035-triaged-in-20180711  \n",
       "3   usability, ux, ux-team, bootstrap, 035-roadmap...  \n",
       "4   usability, ux, ux-team, bootstrap, 035-roadmap...  \n",
       "5                         tor-pt, 040-roadmap-subtask  \n",
       "6               tor-spec, tor-pt, 040-roadmap-subtask  \n",
       "7               tor-spec, tor-pt, 040-roadmap-subtask  \n",
       "8                        s8-bootstrap, bootstrap-arch  \n",
       "9                 s8-bootstrap, usability, ux, tor-pt  \n",
       "10             sponsor19-also, s8-bootstrap, tor-spec  \n",
       "11            sponsor19-also, s8-bootstrap, pt, proxy  \n",
       "12                    tor-pt, 041-proposed-on-roadmap  "
      ]
     },
     "execution_count": 5,
     "metadata": {},
     "output_type": "execute_result"
    }
   ],
   "source": [
    "csv_path='/Users/gaba/Code/torproject/trac/datasets/s19_network.csv'\n",
    "csv_file = pd.read_csv(csv_path)\n",
    "csv_file"
   ]
  },
  {
   "cell_type": "code",
   "execution_count": 34,
   "metadata": {},
   "outputs": [
    {
     "data": {
      "text/plain": [
       "catalyst    8\n",
       "dgoulet     3\n",
       "Name: Owner, dtype: int64"
      ]
     },
     "execution_count": 34,
     "metadata": {},
     "output_type": "execute_result"
    }
   ],
   "source": [
    "# Visualize how many tickets each person is assigned to.\n",
    "csv_file['Owner'].value_counts()"
   ]
  },
  {
   "cell_type": "code",
   "execution_count": 35,
   "metadata": {
    "scrolled": true
   },
   "outputs": [
    {
     "data": {
      "text/plain": [
       "enhancement    7\n",
       "defect         3\n",
       "task           3\n",
       "Name: Type, dtype: int64"
      ]
     },
     "execution_count": 35,
     "metadata": {},
     "output_type": "execute_result"
    }
   ],
   "source": [
    "# What type of tickets we got\n",
    "csv_file['Type'].value_counts()"
   ]
  },
  {
   "cell_type": "code",
   "execution_count": 36,
   "metadata": {},
   "outputs": [
    {
     "data": {
      "text/plain": [
       "Medium    12\n",
       "High       1\n",
       "Name: Priority, dtype: int64"
      ]
     },
     "execution_count": 36,
     "metadata": {},
     "output_type": "execute_result"
    }
   ],
   "source": [
    "# How many high and very high tickets\n",
    "csv_file['Priority'].value_counts()"
   ]
  },
  {
   "cell_type": "code",
   "execution_count": 37,
   "metadata": {},
   "outputs": [
    {
     "data": {
      "text/plain": [
       "Tor: 0.4.0.x-final    11\n",
       "Tor: unspecified       1\n",
       "Tor: 0.4.1.x-final     1\n",
       "Name: Milestone, dtype: int64"
      ]
     },
     "execution_count": 37,
     "metadata": {},
     "output_type": "execute_result"
    }
   ],
   "source": [
    "# which milestone the tickets were supposed to be for\n",
    "csv_file['Milestone'].value_counts()"
   ]
  },
  {
   "cell_type": "code",
   "execution_count": 38,
   "metadata": {},
   "outputs": [
    {
     "data": {
      "text/plain": [
       "assigned        7\n",
       "needs_review    3\n",
       "new             2\n",
       "accepted        1\n",
       "Name: Status, dtype: int64"
      ]
     },
     "execution_count": 38,
     "metadata": {},
     "output_type": "execute_result"
    }
   ],
   "source": [
    "# in which status the tickets are\n",
    "csv_file['Status'].value_counts()"
   ]
  },
  {
   "cell_type": "code",
   "execution_count": null,
   "metadata": {},
   "outputs": [],
   "source": []
  }
 ],
 "metadata": {
  "kernelspec": {
   "display_name": "Python 3",
   "language": "python",
   "name": "python3"
  },
  "language_info": {
   "codemirror_mode": {
    "name": "ipython",
    "version": 3
   },
   "file_extension": ".py",
   "mimetype": "text/x-python",
   "name": "python",
   "nbconvert_exporter": "python",
   "pygments_lexer": "ipython3",
   "version": "3.7.0"
  }
 },
 "nbformat": 4,
 "nbformat_minor": 2
}
